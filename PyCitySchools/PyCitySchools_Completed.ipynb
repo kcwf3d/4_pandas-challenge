{
 "cells": [
  {
   "cell_type": "markdown",
   "metadata": {},
   "source": [
    "## District Summary\n",
    "\n",
    "* Calculate the total number of schools\n",
    "\n",
    "* Calculate the total number of students\n",
    "\n",
    "* Calculate the total budget\n",
    "\n",
    "* Calculate the average math score \n",
    "\n",
    "* Calculate the average reading score\n",
    "\n",
    "* Calculate the percentage of students with a passing math score (70 or greater)\n",
    "\n",
    "* Calculate the percentage of students with a passing reading score (70 or greater)\n",
    "\n",
    "* Calculate the percentage of students who passed math **and** reading (% Overall Passing)\n",
    "\n",
    "* Create a dataframe to hold the above results\n",
    "\n",
    "* Optional: give the displayed data cleaner formatting"
   ]
  },
  {
   "cell_type": "markdown",
   "metadata": {},
   "source": [
    "### Note\n",
    "* Instructions have been included for each segment. You do not have to follow them exactly, but they are included to help you think through the steps."
   ]
  },
  {
   "cell_type": "code",
   "execution_count": 246,
   "metadata": {},
   "outputs": [],
   "source": [
    "# Dependencies and Setup\n",
    "import pandas as pd\n",
    "\n",
    "# File to Load (Remember to Change These)\n",
    "school_data_to_load = \"Resources/schools_complete.csv\"\n",
    "student_data_to_load = \"Resources/students_complete.csv\"\n",
    "\n",
    "# Read School and Student Data File and store into Pandas DataFrames\n",
    "school_data = pd.read_csv(school_data_to_load)\n",
    "student_data = pd.read_csv(student_data_to_load)\n",
    "\n",
    "# Combine the data into a single dataset.  \n",
    "school_data_complete = pd.merge(student_data, school_data, how=\"left\", on=[\"school_name\", \"school_name\"])"
   ]
  },
  {
   "cell_type": "code",
   "execution_count": 247,
   "metadata": {},
   "outputs": [
    {
     "data": {
      "text/html": [
       "<div>\n",
       "<style scoped>\n",
       "    .dataframe tbody tr th:only-of-type {\n",
       "        vertical-align: middle;\n",
       "    }\n",
       "\n",
       "    .dataframe tbody tr th {\n",
       "        vertical-align: top;\n",
       "    }\n",
       "\n",
       "    .dataframe thead th {\n",
       "        text-align: right;\n",
       "    }\n",
       "</style>\n",
       "<table border=\"1\" class=\"dataframe\">\n",
       "  <thead>\n",
       "    <tr style=\"text-align: right;\">\n",
       "      <th></th>\n",
       "      <th>School ID</th>\n",
       "      <th>school_name</th>\n",
       "      <th>type</th>\n",
       "      <th>size</th>\n",
       "      <th>budget</th>\n",
       "    </tr>\n",
       "  </thead>\n",
       "  <tbody>\n",
       "    <tr>\n",
       "      <th>0</th>\n",
       "      <td>0</td>\n",
       "      <td>Huang High School</td>\n",
       "      <td>District</td>\n",
       "      <td>2917</td>\n",
       "      <td>1910635</td>\n",
       "    </tr>\n",
       "    <tr>\n",
       "      <th>1</th>\n",
       "      <td>1</td>\n",
       "      <td>Figueroa High School</td>\n",
       "      <td>District</td>\n",
       "      <td>2949</td>\n",
       "      <td>1884411</td>\n",
       "    </tr>\n",
       "    <tr>\n",
       "      <th>2</th>\n",
       "      <td>2</td>\n",
       "      <td>Shelton High School</td>\n",
       "      <td>Charter</td>\n",
       "      <td>1761</td>\n",
       "      <td>1056600</td>\n",
       "    </tr>\n",
       "    <tr>\n",
       "      <th>3</th>\n",
       "      <td>3</td>\n",
       "      <td>Hernandez High School</td>\n",
       "      <td>District</td>\n",
       "      <td>4635</td>\n",
       "      <td>3022020</td>\n",
       "    </tr>\n",
       "    <tr>\n",
       "      <th>4</th>\n",
       "      <td>4</td>\n",
       "      <td>Griffin High School</td>\n",
       "      <td>Charter</td>\n",
       "      <td>1468</td>\n",
       "      <td>917500</td>\n",
       "    </tr>\n",
       "    <tr>\n",
       "      <th>5</th>\n",
       "      <td>5</td>\n",
       "      <td>Wilson High School</td>\n",
       "      <td>Charter</td>\n",
       "      <td>2283</td>\n",
       "      <td>1319574</td>\n",
       "    </tr>\n",
       "    <tr>\n",
       "      <th>6</th>\n",
       "      <td>6</td>\n",
       "      <td>Cabrera High School</td>\n",
       "      <td>Charter</td>\n",
       "      <td>1858</td>\n",
       "      <td>1081356</td>\n",
       "    </tr>\n",
       "    <tr>\n",
       "      <th>7</th>\n",
       "      <td>7</td>\n",
       "      <td>Bailey High School</td>\n",
       "      <td>District</td>\n",
       "      <td>4976</td>\n",
       "      <td>3124928</td>\n",
       "    </tr>\n",
       "    <tr>\n",
       "      <th>8</th>\n",
       "      <td>8</td>\n",
       "      <td>Holden High School</td>\n",
       "      <td>Charter</td>\n",
       "      <td>427</td>\n",
       "      <td>248087</td>\n",
       "    </tr>\n",
       "    <tr>\n",
       "      <th>9</th>\n",
       "      <td>9</td>\n",
       "      <td>Pena High School</td>\n",
       "      <td>Charter</td>\n",
       "      <td>962</td>\n",
       "      <td>585858</td>\n",
       "    </tr>\n",
       "    <tr>\n",
       "      <th>10</th>\n",
       "      <td>10</td>\n",
       "      <td>Wright High School</td>\n",
       "      <td>Charter</td>\n",
       "      <td>1800</td>\n",
       "      <td>1049400</td>\n",
       "    </tr>\n",
       "    <tr>\n",
       "      <th>11</th>\n",
       "      <td>11</td>\n",
       "      <td>Rodriguez High School</td>\n",
       "      <td>District</td>\n",
       "      <td>3999</td>\n",
       "      <td>2547363</td>\n",
       "    </tr>\n",
       "    <tr>\n",
       "      <th>12</th>\n",
       "      <td>12</td>\n",
       "      <td>Johnson High School</td>\n",
       "      <td>District</td>\n",
       "      <td>4761</td>\n",
       "      <td>3094650</td>\n",
       "    </tr>\n",
       "    <tr>\n",
       "      <th>13</th>\n",
       "      <td>13</td>\n",
       "      <td>Ford High School</td>\n",
       "      <td>District</td>\n",
       "      <td>2739</td>\n",
       "      <td>1763916</td>\n",
       "    </tr>\n",
       "    <tr>\n",
       "      <th>14</th>\n",
       "      <td>14</td>\n",
       "      <td>Thomas High School</td>\n",
       "      <td>Charter</td>\n",
       "      <td>1635</td>\n",
       "      <td>1043130</td>\n",
       "    </tr>\n",
       "  </tbody>\n",
       "</table>\n",
       "</div>"
      ],
      "text/plain": [
       "    School ID            school_name      type  size   budget\n",
       "0           0      Huang High School  District  2917  1910635\n",
       "1           1   Figueroa High School  District  2949  1884411\n",
       "2           2    Shelton High School   Charter  1761  1056600\n",
       "3           3  Hernandez High School  District  4635  3022020\n",
       "4           4    Griffin High School   Charter  1468   917500\n",
       "5           5     Wilson High School   Charter  2283  1319574\n",
       "6           6    Cabrera High School   Charter  1858  1081356\n",
       "7           7     Bailey High School  District  4976  3124928\n",
       "8           8     Holden High School   Charter   427   248087\n",
       "9           9       Pena High School   Charter   962   585858\n",
       "10         10     Wright High School   Charter  1800  1049400\n",
       "11         11  Rodriguez High School  District  3999  2547363\n",
       "12         12    Johnson High School  District  4761  3094650\n",
       "13         13       Ford High School  District  2739  1763916\n",
       "14         14     Thomas High School   Charter  1635  1043130"
      ]
     },
     "execution_count": 247,
     "metadata": {},
     "output_type": "execute_result"
    }
   ],
   "source": [
    "#viewing school data\n",
    "school_data"
   ]
  },
  {
   "cell_type": "code",
   "execution_count": 248,
   "metadata": {},
   "outputs": [
    {
     "data": {
      "text/plain": [
       "15"
      ]
     },
     "execution_count": 248,
     "metadata": {},
     "output_type": "execute_result"
    }
   ],
   "source": [
    "#number of schools\n",
    "totalSchools= school_data.count()[\"School ID\"]\n",
    "totalSchools"
   ]
  },
  {
   "cell_type": "code",
   "execution_count": 249,
   "metadata": {},
   "outputs": [
    {
     "data": {
      "text/plain": [
       "24649428"
      ]
     },
     "execution_count": 249,
     "metadata": {},
     "output_type": "execute_result"
    }
   ],
   "source": [
    "#total budge\n",
    "totalBudget = sum(school_data[\"budget\"])\n",
    "totalBudget"
   ]
  },
  {
   "cell_type": "code",
   "execution_count": 250,
   "metadata": {
    "scrolled": true
   },
   "outputs": [
    {
     "data": {
      "text/html": [
       "<div>\n",
       "<style scoped>\n",
       "    .dataframe tbody tr th:only-of-type {\n",
       "        vertical-align: middle;\n",
       "    }\n",
       "\n",
       "    .dataframe tbody tr th {\n",
       "        vertical-align: top;\n",
       "    }\n",
       "\n",
       "    .dataframe thead th {\n",
       "        text-align: right;\n",
       "    }\n",
       "</style>\n",
       "<table border=\"1\" class=\"dataframe\">\n",
       "  <thead>\n",
       "    <tr style=\"text-align: right;\">\n",
       "      <th></th>\n",
       "      <th>Student ID</th>\n",
       "      <th>student_name</th>\n",
       "      <th>gender</th>\n",
       "      <th>grade</th>\n",
       "      <th>school_name</th>\n",
       "      <th>reading_score</th>\n",
       "      <th>math_score</th>\n",
       "      <th>School ID</th>\n",
       "      <th>type</th>\n",
       "      <th>size</th>\n",
       "      <th>budget</th>\n",
       "    </tr>\n",
       "  </thead>\n",
       "  <tbody>\n",
       "    <tr>\n",
       "      <th>0</th>\n",
       "      <td>0</td>\n",
       "      <td>Paul Bradley</td>\n",
       "      <td>M</td>\n",
       "      <td>9th</td>\n",
       "      <td>Huang High School</td>\n",
       "      <td>66</td>\n",
       "      <td>79</td>\n",
       "      <td>0</td>\n",
       "      <td>District</td>\n",
       "      <td>2917</td>\n",
       "      <td>1910635</td>\n",
       "    </tr>\n",
       "    <tr>\n",
       "      <th>1</th>\n",
       "      <td>1</td>\n",
       "      <td>Victor Smith</td>\n",
       "      <td>M</td>\n",
       "      <td>12th</td>\n",
       "      <td>Huang High School</td>\n",
       "      <td>94</td>\n",
       "      <td>61</td>\n",
       "      <td>0</td>\n",
       "      <td>District</td>\n",
       "      <td>2917</td>\n",
       "      <td>1910635</td>\n",
       "    </tr>\n",
       "    <tr>\n",
       "      <th>2</th>\n",
       "      <td>2</td>\n",
       "      <td>Kevin Rodriguez</td>\n",
       "      <td>M</td>\n",
       "      <td>12th</td>\n",
       "      <td>Huang High School</td>\n",
       "      <td>90</td>\n",
       "      <td>60</td>\n",
       "      <td>0</td>\n",
       "      <td>District</td>\n",
       "      <td>2917</td>\n",
       "      <td>1910635</td>\n",
       "    </tr>\n",
       "    <tr>\n",
       "      <th>3</th>\n",
       "      <td>3</td>\n",
       "      <td>Dr. Richard Scott</td>\n",
       "      <td>M</td>\n",
       "      <td>12th</td>\n",
       "      <td>Huang High School</td>\n",
       "      <td>67</td>\n",
       "      <td>58</td>\n",
       "      <td>0</td>\n",
       "      <td>District</td>\n",
       "      <td>2917</td>\n",
       "      <td>1910635</td>\n",
       "    </tr>\n",
       "    <tr>\n",
       "      <th>4</th>\n",
       "      <td>4</td>\n",
       "      <td>Bonnie Ray</td>\n",
       "      <td>F</td>\n",
       "      <td>9th</td>\n",
       "      <td>Huang High School</td>\n",
       "      <td>97</td>\n",
       "      <td>84</td>\n",
       "      <td>0</td>\n",
       "      <td>District</td>\n",
       "      <td>2917</td>\n",
       "      <td>1910635</td>\n",
       "    </tr>\n",
       "  </tbody>\n",
       "</table>\n",
       "</div>"
      ],
      "text/plain": [
       "   Student ID       student_name gender grade        school_name  \\\n",
       "0           0       Paul Bradley      M   9th  Huang High School   \n",
       "1           1       Victor Smith      M  12th  Huang High School   \n",
       "2           2    Kevin Rodriguez      M  12th  Huang High School   \n",
       "3           3  Dr. Richard Scott      M  12th  Huang High School   \n",
       "4           4         Bonnie Ray      F   9th  Huang High School   \n",
       "\n",
       "   reading_score  math_score  School ID      type  size   budget  \n",
       "0             66          79          0  District  2917  1910635  \n",
       "1             94          61          0  District  2917  1910635  \n",
       "2             90          60          0  District  2917  1910635  \n",
       "3             67          58          0  District  2917  1910635  \n",
       "4             97          84          0  District  2917  1910635  "
      ]
     },
     "execution_count": 250,
     "metadata": {},
     "output_type": "execute_result"
    }
   ],
   "source": [
    "school_data_complete.head()"
   ]
  },
  {
   "cell_type": "code",
   "execution_count": 251,
   "metadata": {},
   "outputs": [
    {
     "data": {
      "text/plain": [
       "39170"
      ]
     },
     "execution_count": 251,
     "metadata": {},
     "output_type": "execute_result"
    }
   ],
   "source": [
    "#total students\n",
    "totalStudents = school_data_complete.count()[\"Student ID\"] \n",
    "totalStudents\n"
   ]
  },
  {
   "cell_type": "code",
   "execution_count": 252,
   "metadata": {},
   "outputs": [
    {
     "data": {
      "text/plain": [
       "78.98537145774827"
      ]
     },
     "execution_count": 252,
     "metadata": {},
     "output_type": "execute_result"
    }
   ],
   "source": [
    "#average Math\n",
    "aveMath= school_data_complete.mean()[\"math_score\"]\n",
    "aveMath"
   ]
  },
  {
   "cell_type": "code",
   "execution_count": 253,
   "metadata": {},
   "outputs": [
    {
     "data": {
      "text/plain": [
       "81.87784018381414"
      ]
     },
     "execution_count": 253,
     "metadata": {},
     "output_type": "execute_result"
    }
   ],
   "source": [
    "#average Reading\n",
    "aveRead= school_data_complete.mean()[\"reading_score\"]\n",
    "aveRead"
   ]
  },
  {
   "cell_type": "code",
   "execution_count": 254,
   "metadata": {
    "scrolled": false
   },
   "outputs": [
    {
     "data": {
      "text/plain": [
       "29370"
      ]
     },
     "execution_count": 254,
     "metadata": {},
     "output_type": "execute_result"
    }
   ],
   "source": [
    "#passedMath\n",
    "passMathcount = school_data_complete[school_data_complete[\"math_score\"]>= 70].count()[\"Student ID\"]\n",
    "passMathcount"
   ]
  },
  {
   "cell_type": "code",
   "execution_count": 255,
   "metadata": {
    "scrolled": true
   },
   "outputs": [
    {
     "data": {
      "text/plain": [
       "74.9808526933878"
      ]
     },
     "execution_count": 255,
     "metadata": {},
     "output_type": "execute_result"
    }
   ],
   "source": [
    "#%passedMath\n",
    "passMathprec = ((passMathcount/totalStudents)*100)\n",
    "passMathprec"
   ]
  },
  {
   "cell_type": "code",
   "execution_count": 256,
   "metadata": {},
   "outputs": [
    {
     "data": {
      "text/plain": [
       "33610"
      ]
     },
     "execution_count": 256,
     "metadata": {},
     "output_type": "execute_result"
    }
   ],
   "source": [
    "#passed reading \n",
    "passedRead= school_data_complete[school_data_complete[\"reading_score\"]>=70].count()[\"Student ID\"]\n",
    "passedRead"
   ]
  },
  {
   "cell_type": "code",
   "execution_count": 257,
   "metadata": {},
   "outputs": [
    {
     "data": {
      "text/plain": [
       "85.80546336482001"
      ]
     },
     "execution_count": 257,
     "metadata": {},
     "output_type": "execute_result"
    }
   ],
   "source": [
    "#%passed reading\n",
    "passReadprec = ((passedRead/totalStudents)*100)\n",
    "passReadprec"
   ]
  },
  {
   "cell_type": "code",
   "execution_count": 258,
   "metadata": {},
   "outputs": [
    {
     "data": {
      "text/plain": [
       "65.17232575950983"
      ]
     },
     "execution_count": 258,
     "metadata": {},
     "output_type": "execute_result"
    }
   ],
   "source": [
    "#Overall Passing\n",
    "overPass = school_data_complete[(school_data_complete[\"reading_score\"]>=70) & (school_data_complete[\"math_score\"]>= 70)].count()[\"Student ID\"]\n",
    "overPassprec = ((overPass/totalStudents)*100)\n",
    "overPassprec"
   ]
  },
  {
   "cell_type": "code",
   "execution_count": 259,
   "metadata": {},
   "outputs": [
    {
     "data": {
      "text/html": [
       "<div>\n",
       "<style scoped>\n",
       "    .dataframe tbody tr th:only-of-type {\n",
       "        vertical-align: middle;\n",
       "    }\n",
       "\n",
       "    .dataframe tbody tr th {\n",
       "        vertical-align: top;\n",
       "    }\n",
       "\n",
       "    .dataframe thead th {\n",
       "        text-align: right;\n",
       "    }\n",
       "</style>\n",
       "<table border=\"1\" class=\"dataframe\">\n",
       "  <thead>\n",
       "    <tr style=\"text-align: right;\">\n",
       "      <th></th>\n",
       "      <th>Total Schools</th>\n",
       "      <th>Total Students</th>\n",
       "      <th>Total Budget</th>\n",
       "      <th>Average Math Score</th>\n",
       "      <th>Average Reading Score</th>\n",
       "      <th>% Passing Math</th>\n",
       "      <th>% Passing Reading</th>\n",
       "      <th>% Overall Passing</th>\n",
       "    </tr>\n",
       "  </thead>\n",
       "  <tbody>\n",
       "    <tr>\n",
       "      <th>0</th>\n",
       "      <td>15</td>\n",
       "      <td>39170</td>\n",
       "      <td>24649428</td>\n",
       "      <td>78.985371</td>\n",
       "      <td>81.87784</td>\n",
       "      <td>74.980853</td>\n",
       "      <td>85.805463</td>\n",
       "      <td>65.172326</td>\n",
       "    </tr>\n",
       "  </tbody>\n",
       "</table>\n",
       "</div>"
      ],
      "text/plain": [
       "   Total Schools  Total Students  Total Budget  Average Math Score  \\\n",
       "0             15           39170      24649428           78.985371   \n",
       "\n",
       "   Average Reading Score  % Passing Math  % Passing Reading  % Overall Passing  \n",
       "0               81.87784       74.980853          85.805463          65.172326  "
      ]
     },
     "execution_count": 259,
     "metadata": {},
     "output_type": "execute_result"
    }
   ],
   "source": [
    "# District Summary Table\n",
    "\n",
    "dt_data = [{'Total Schools': totalSchools, 'Total Students': totalStudents,'Total Budget': totalBudget, 'Average Math Score': aveMath, 'Average Reading Score': aveRead, '% Passing Math': passMathprec, '% Passing Reading': passReadprec, \"% Overall Passing\": overPassprec}]\n",
    "dt_summary= pd.DataFrame(dt_data) \n",
    "dt_summary"
   ]
  },
  {
   "cell_type": "markdown",
   "metadata": {},
   "source": [
    "## School Summary"
   ]
  },
  {
   "cell_type": "markdown",
   "metadata": {},
   "source": [
    "* Create an overview table that summarizes key metrics about each school, including:\n",
    "  * School Name\n",
    "  * School Type\n",
    "  * Total Students\n",
    "  * Total School Budget\n",
    "  * Per Student Budget\n",
    "  * Average Math Score\n",
    "  * Average Reading Score\n",
    "  * % Passing Math\n",
    "  * % Passing Reading\n",
    "  * % Overall Passing (The percentage of students that passed math **and** reading.)\n",
    "  \n",
    "* Create a dataframe to hold the above results"
   ]
  },
  {
   "cell_type": "code",
   "execution_count": 260,
   "metadata": {},
   "outputs": [
    {
     "data": {
      "text/html": [
       "<div>\n",
       "<style scoped>\n",
       "    .dataframe tbody tr th:only-of-type {\n",
       "        vertical-align: middle;\n",
       "    }\n",
       "\n",
       "    .dataframe tbody tr th {\n",
       "        vertical-align: top;\n",
       "    }\n",
       "\n",
       "    .dataframe thead th {\n",
       "        text-align: right;\n",
       "    }\n",
       "</style>\n",
       "<table border=\"1\" class=\"dataframe\">\n",
       "  <thead>\n",
       "    <tr style=\"text-align: right;\">\n",
       "      <th></th>\n",
       "      <th>Student ID</th>\n",
       "      <th>student_name</th>\n",
       "      <th>gender</th>\n",
       "      <th>grade</th>\n",
       "      <th>school_name</th>\n",
       "      <th>reading_score</th>\n",
       "      <th>math_score</th>\n",
       "      <th>School ID</th>\n",
       "      <th>type</th>\n",
       "      <th>size</th>\n",
       "      <th>budget</th>\n",
       "    </tr>\n",
       "  </thead>\n",
       "  <tbody>\n",
       "    <tr>\n",
       "      <th>0</th>\n",
       "      <td>0</td>\n",
       "      <td>Paul Bradley</td>\n",
       "      <td>M</td>\n",
       "      <td>9th</td>\n",
       "      <td>Huang High School</td>\n",
       "      <td>66</td>\n",
       "      <td>79</td>\n",
       "      <td>0</td>\n",
       "      <td>District</td>\n",
       "      <td>2917</td>\n",
       "      <td>1910635</td>\n",
       "    </tr>\n",
       "    <tr>\n",
       "      <th>1</th>\n",
       "      <td>1</td>\n",
       "      <td>Victor Smith</td>\n",
       "      <td>M</td>\n",
       "      <td>12th</td>\n",
       "      <td>Huang High School</td>\n",
       "      <td>94</td>\n",
       "      <td>61</td>\n",
       "      <td>0</td>\n",
       "      <td>District</td>\n",
       "      <td>2917</td>\n",
       "      <td>1910635</td>\n",
       "    </tr>\n",
       "    <tr>\n",
       "      <th>2</th>\n",
       "      <td>2</td>\n",
       "      <td>Kevin Rodriguez</td>\n",
       "      <td>M</td>\n",
       "      <td>12th</td>\n",
       "      <td>Huang High School</td>\n",
       "      <td>90</td>\n",
       "      <td>60</td>\n",
       "      <td>0</td>\n",
       "      <td>District</td>\n",
       "      <td>2917</td>\n",
       "      <td>1910635</td>\n",
       "    </tr>\n",
       "    <tr>\n",
       "      <th>3</th>\n",
       "      <td>3</td>\n",
       "      <td>Dr. Richard Scott</td>\n",
       "      <td>M</td>\n",
       "      <td>12th</td>\n",
       "      <td>Huang High School</td>\n",
       "      <td>67</td>\n",
       "      <td>58</td>\n",
       "      <td>0</td>\n",
       "      <td>District</td>\n",
       "      <td>2917</td>\n",
       "      <td>1910635</td>\n",
       "    </tr>\n",
       "    <tr>\n",
       "      <th>4</th>\n",
       "      <td>4</td>\n",
       "      <td>Bonnie Ray</td>\n",
       "      <td>F</td>\n",
       "      <td>9th</td>\n",
       "      <td>Huang High School</td>\n",
       "      <td>97</td>\n",
       "      <td>84</td>\n",
       "      <td>0</td>\n",
       "      <td>District</td>\n",
       "      <td>2917</td>\n",
       "      <td>1910635</td>\n",
       "    </tr>\n",
       "    <tr>\n",
       "      <th>...</th>\n",
       "      <td>...</td>\n",
       "      <td>...</td>\n",
       "      <td>...</td>\n",
       "      <td>...</td>\n",
       "      <td>...</td>\n",
       "      <td>...</td>\n",
       "      <td>...</td>\n",
       "      <td>...</td>\n",
       "      <td>...</td>\n",
       "      <td>...</td>\n",
       "      <td>...</td>\n",
       "    </tr>\n",
       "    <tr>\n",
       "      <th>39165</th>\n",
       "      <td>39165</td>\n",
       "      <td>Donna Howard</td>\n",
       "      <td>F</td>\n",
       "      <td>12th</td>\n",
       "      <td>Thomas High School</td>\n",
       "      <td>99</td>\n",
       "      <td>90</td>\n",
       "      <td>14</td>\n",
       "      <td>Charter</td>\n",
       "      <td>1635</td>\n",
       "      <td>1043130</td>\n",
       "    </tr>\n",
       "    <tr>\n",
       "      <th>39166</th>\n",
       "      <td>39166</td>\n",
       "      <td>Dawn Bell</td>\n",
       "      <td>F</td>\n",
       "      <td>10th</td>\n",
       "      <td>Thomas High School</td>\n",
       "      <td>95</td>\n",
       "      <td>70</td>\n",
       "      <td>14</td>\n",
       "      <td>Charter</td>\n",
       "      <td>1635</td>\n",
       "      <td>1043130</td>\n",
       "    </tr>\n",
       "    <tr>\n",
       "      <th>39167</th>\n",
       "      <td>39167</td>\n",
       "      <td>Rebecca Tanner</td>\n",
       "      <td>F</td>\n",
       "      <td>9th</td>\n",
       "      <td>Thomas High School</td>\n",
       "      <td>73</td>\n",
       "      <td>84</td>\n",
       "      <td>14</td>\n",
       "      <td>Charter</td>\n",
       "      <td>1635</td>\n",
       "      <td>1043130</td>\n",
       "    </tr>\n",
       "    <tr>\n",
       "      <th>39168</th>\n",
       "      <td>39168</td>\n",
       "      <td>Desiree Kidd</td>\n",
       "      <td>F</td>\n",
       "      <td>10th</td>\n",
       "      <td>Thomas High School</td>\n",
       "      <td>99</td>\n",
       "      <td>90</td>\n",
       "      <td>14</td>\n",
       "      <td>Charter</td>\n",
       "      <td>1635</td>\n",
       "      <td>1043130</td>\n",
       "    </tr>\n",
       "    <tr>\n",
       "      <th>39169</th>\n",
       "      <td>39169</td>\n",
       "      <td>Carolyn Jackson</td>\n",
       "      <td>F</td>\n",
       "      <td>11th</td>\n",
       "      <td>Thomas High School</td>\n",
       "      <td>95</td>\n",
       "      <td>75</td>\n",
       "      <td>14</td>\n",
       "      <td>Charter</td>\n",
       "      <td>1635</td>\n",
       "      <td>1043130</td>\n",
       "    </tr>\n",
       "  </tbody>\n",
       "</table>\n",
       "<p>39170 rows × 11 columns</p>\n",
       "</div>"
      ],
      "text/plain": [
       "       Student ID       student_name gender grade         school_name  \\\n",
       "0               0       Paul Bradley      M   9th   Huang High School   \n",
       "1               1       Victor Smith      M  12th   Huang High School   \n",
       "2               2    Kevin Rodriguez      M  12th   Huang High School   \n",
       "3               3  Dr. Richard Scott      M  12th   Huang High School   \n",
       "4               4         Bonnie Ray      F   9th   Huang High School   \n",
       "...           ...                ...    ...   ...                 ...   \n",
       "39165       39165       Donna Howard      F  12th  Thomas High School   \n",
       "39166       39166          Dawn Bell      F  10th  Thomas High School   \n",
       "39167       39167     Rebecca Tanner      F   9th  Thomas High School   \n",
       "39168       39168       Desiree Kidd      F  10th  Thomas High School   \n",
       "39169       39169    Carolyn Jackson      F  11th  Thomas High School   \n",
       "\n",
       "       reading_score  math_score  School ID      type  size   budget  \n",
       "0                 66          79          0  District  2917  1910635  \n",
       "1                 94          61          0  District  2917  1910635  \n",
       "2                 90          60          0  District  2917  1910635  \n",
       "3                 67          58          0  District  2917  1910635  \n",
       "4                 97          84          0  District  2917  1910635  \n",
       "...              ...         ...        ...       ...   ...      ...  \n",
       "39165             99          90         14   Charter  1635  1043130  \n",
       "39166             95          70         14   Charter  1635  1043130  \n",
       "39167             73          84         14   Charter  1635  1043130  \n",
       "39168             99          90         14   Charter  1635  1043130  \n",
       "39169             95          75         14   Charter  1635  1043130  \n",
       "\n",
       "[39170 rows x 11 columns]"
      ]
     },
     "execution_count": 260,
     "metadata": {},
     "output_type": "execute_result"
    }
   ],
   "source": [
    "#refreshing data table info\n",
    "school_data_complete = pd.merge(student_data, school_data, how=\"left\", on=[\"school_name\", \"school_name\"])\n",
    "school_data_complete"
   ]
  },
  {
   "cell_type": "code",
   "execution_count": 261,
   "metadata": {
    "scrolled": true
   },
   "outputs": [
    {
     "data": {
      "text/plain": [
       "<pandas.core.groupby.generic.DataFrameGroupBy object at 0x000001CA013829A0>"
      ]
     },
     "execution_count": 261,
     "metadata": {},
     "output_type": "execute_result"
    }
   ],
   "source": [
    "#grouping by school\n",
    "schoolGroup = school_data_complete.groupby('school_name')\n",
    "schoolGroup"
   ]
  },
  {
   "cell_type": "code",
   "execution_count": 262,
   "metadata": {
    "scrolled": true
   },
   "outputs": [
    {
     "data": {
      "text/plain": [
       "school_name\n",
       "Bailey High School       4976\n",
       "Cabrera High School      1858\n",
       "Figueroa High School     2949\n",
       "Ford High School         2739\n",
       "Griffin High School      1468\n",
       "Hernandez High School    4635\n",
       "Holden High School        427\n",
       "Huang High School        2917\n",
       "Johnson High School      4761\n",
       "Pena High School          962\n",
       "Rodriguez High School    3999\n",
       "Shelton High School      1761\n",
       "Thomas High School       1635\n",
       "Wilson High School       2283\n",
       "Wright High School       1800\n",
       "Name: school_name, dtype: int64"
      ]
     },
     "execution_count": 262,
     "metadata": {},
     "output_type": "execute_result"
    }
   ],
   "source": [
    "#students per school\n",
    "stud_school = schoolGroup['school_name'].count()\n",
    "stud_school"
   ]
  },
  {
   "cell_type": "code",
   "execution_count": 263,
   "metadata": {},
   "outputs": [
    {
     "data": {
      "text/plain": [
       "school_name\n",
       "Bailey High School       3124928\n",
       "Cabrera High School      1081356\n",
       "Figueroa High School     1884411\n",
       "Ford High School         1763916\n",
       "Griffin High School       917500\n",
       "Hernandez High School    3022020\n",
       "Holden High School        248087\n",
       "Huang High School        1910635\n",
       "Johnson High School      3094650\n",
       "Pena High School          585858\n",
       "Rodriguez High School    2547363\n",
       "Shelton High School      1056600\n",
       "Thomas High School       1043130\n",
       "Wilson High School       1319574\n",
       "Wright High School       1049400\n",
       "Name: budget, dtype: int64"
      ]
     },
     "execution_count": 263,
     "metadata": {},
     "output_type": "execute_result"
    }
   ],
   "source": [
    "#budget for each school \n",
    "school_bud= schoolGroup['budget'].mean()\n",
    "school_bud"
   ]
  },
  {
   "cell_type": "code",
   "execution_count": 264,
   "metadata": {},
   "outputs": [
    {
     "data": {
      "text/plain": [
       "school_name\n",
       "Bailey High School       628.0\n",
       "Cabrera High School      582.0\n",
       "Figueroa High School     639.0\n",
       "Ford High School         644.0\n",
       "Griffin High School      625.0\n",
       "Hernandez High School    652.0\n",
       "Holden High School       581.0\n",
       "Huang High School        655.0\n",
       "Johnson High School      650.0\n",
       "Pena High School         609.0\n",
       "Rodriguez High School    637.0\n",
       "Shelton High School      600.0\n",
       "Thomas High School       638.0\n",
       "Wilson High School       578.0\n",
       "Wright High School       583.0\n",
       "dtype: float64"
      ]
     },
     "execution_count": 264,
     "metadata": {},
     "output_type": "execute_result"
    }
   ],
   "source": [
    "#per student budget\n",
    "perStu_bud = (school_bud)/(stud_school)\n",
    "perStu_bud"
   ]
  },
  {
   "cell_type": "code",
   "execution_count": 265,
   "metadata": {},
   "outputs": [
    {
     "data": {
      "text/plain": [
       "school_name\n",
       "Bailey High School       77.048432\n",
       "Cabrera High School      83.061895\n",
       "Figueroa High School     76.711767\n",
       "Ford High School         77.102592\n",
       "Griffin High School      83.351499\n",
       "Hernandez High School    77.289752\n",
       "Holden High School       83.803279\n",
       "Huang High School        76.629414\n",
       "Johnson High School      77.072464\n",
       "Pena High School         83.839917\n",
       "Rodriguez High School    76.842711\n",
       "Shelton High School      83.359455\n",
       "Thomas High School       83.418349\n",
       "Wilson High School       83.274201\n",
       "Wright High School       83.682222\n",
       "Name: math_score, dtype: float64"
      ]
     },
     "execution_count": 265,
     "metadata": {},
     "output_type": "execute_result"
    }
   ],
   "source": [
    "#average math scores by school\n",
    "s_aveMath = schoolGroup['math_score'].mean()\n",
    "s_aveMath"
   ]
  },
  {
   "cell_type": "code",
   "execution_count": 266,
   "metadata": {},
   "outputs": [
    {
     "data": {
      "text/plain": [
       "school_name\n",
       "Bailey High School       81.033963\n",
       "Cabrera High School      83.975780\n",
       "Figueroa High School     81.158020\n",
       "Ford High School         80.746258\n",
       "Griffin High School      83.816757\n",
       "Hernandez High School    80.934412\n",
       "Holden High School       83.814988\n",
       "Huang High School        81.182722\n",
       "Johnson High School      80.966394\n",
       "Pena High School         84.044699\n",
       "Rodriguez High School    80.744686\n",
       "Shelton High School      83.725724\n",
       "Thomas High School       83.848930\n",
       "Wilson High School       83.989488\n",
       "Wright High School       83.955000\n",
       "Name: reading_score, dtype: float64"
      ]
     },
     "execution_count": 266,
     "metadata": {},
     "output_type": "execute_result"
    }
   ],
   "source": [
    "#average reading score by school \n",
    "s_aveRead = schoolGroup['reading_score'].mean()\n",
    "s_aveRead"
   ]
  },
  {
   "cell_type": "code",
   "execution_count": 267,
   "metadata": {
    "scrolled": false
   },
   "outputs": [
    {
     "data": {
      "text/plain": [
       "school_name\n",
       "Bailey High School       66.680064\n",
       "Cabrera High School      94.133477\n",
       "Figueroa High School     65.988471\n",
       "Ford High School         68.309602\n",
       "Griffin High School      93.392371\n",
       "Hernandez High School    66.752967\n",
       "Holden High School       92.505855\n",
       "Huang High School        65.683922\n",
       "Johnson High School      66.057551\n",
       "Pena High School         94.594595\n",
       "Rodriguez High School    66.366592\n",
       "Shelton High School      93.867121\n",
       "Thomas High School       93.272171\n",
       "Wilson High School       93.867718\n",
       "Wright High School       93.333333\n",
       "dtype: float64"
      ]
     },
     "execution_count": 267,
     "metadata": {},
     "output_type": "execute_result"
    }
   ],
   "source": [
    "s_pasMath = school_data_complete[school_data_complete[\"math_score\"]>=70].groupby('school_name')['Student ID'].count()\n",
    "s_pasMathpre = ((s_pasMath/stud_school)*100)\n",
    "s_pasMathpre"
   ]
  },
  {
   "cell_type": "code",
   "execution_count": 268,
   "metadata": {},
   "outputs": [
    {
     "data": {
      "text/plain": [
       "school_name\n",
       "Bailey High School       81.933280\n",
       "Cabrera High School      97.039828\n",
       "Figueroa High School     80.739234\n",
       "Ford High School         79.299014\n",
       "Griffin High School      97.138965\n",
       "Hernandez High School    80.862999\n",
       "Holden High School       96.252927\n",
       "Huang High School        81.316421\n",
       "Johnson High School      81.222432\n",
       "Pena High School         95.945946\n",
       "Rodriguez High School    80.220055\n",
       "Shelton High School      95.854628\n",
       "Thomas High School       97.308869\n",
       "Wilson High School       96.539641\n",
       "Wright High School       96.611111\n",
       "dtype: float64"
      ]
     },
     "execution_count": 268,
     "metadata": {},
     "output_type": "execute_result"
    }
   ],
   "source": [
    "s_pasRead = school_data_complete[school_data_complete[\"reading_score\"]>=70].groupby('school_name')['Student ID'].count()\n",
    "s_pasReadpre = ((s_pasRead/stud_school)*100)\n",
    "s_pasReadpre"
   ]
  },
  {
   "cell_type": "code",
   "execution_count": 269,
   "metadata": {},
   "outputs": [
    {
     "data": {
      "text/plain": [
       "school_name\n",
       "Bailey High School       54.642283\n",
       "Cabrera High School      91.334769\n",
       "Figueroa High School     53.204476\n",
       "Ford High School         54.289887\n",
       "Griffin High School      90.599455\n",
       "Hernandez High School    53.527508\n",
       "Holden High School       89.227166\n",
       "Huang High School        53.513884\n",
       "Johnson High School      53.539172\n",
       "Pena High School         90.540541\n",
       "Rodriguez High School    52.988247\n",
       "Shelton High School      89.892107\n",
       "Thomas High School       90.948012\n",
       "Wilson High School       90.582567\n",
       "Wright High School       90.333333\n",
       "dtype: float64"
      ]
     },
     "execution_count": 269,
     "metadata": {},
     "output_type": "execute_result"
    }
   ],
   "source": [
    "s_overpas= school_data_complete[(school_data_complete[\"reading_score\"]>=70) & (school_data_complete[\"math_score\"]>= 70)].groupby('school_name')['Student ID'].count()\n",
    "s_overpasPre= ((s_overpas/stud_school)*100)\n",
    "s_overpasPre"
   ]
  },
  {
   "cell_type": "code",
   "execution_count": 270,
   "metadata": {},
   "outputs": [],
   "source": [
    "#removing duplicates that were causing issues\n",
    "temp=pd.DataFrame.drop_duplicates(school_data_complete[[\"school_name\",\"type\"]])\n",
    "temp.set_index(\"school_name\",inplace=True)"
   ]
  },
  {
   "cell_type": "code",
   "execution_count": 271,
   "metadata": {},
   "outputs": [
    {
     "data": {
      "text/html": [
       "<style  type=\"text/css\" >\n",
       "</style><table id=\"T_a5d32ef1_7ea8_11eb_b5ab_f8e4e39641cc\" ><thead>    <tr>        <th class=\"blank level0\" ></th>        <th class=\"col_heading level0 col0\" >School Type</th>        <th class=\"col_heading level0 col1\" >Total Students</th>        <th class=\"col_heading level0 col2\" >Total School Budget</th>        <th class=\"col_heading level0 col3\" >Per Student Budget</th>        <th class=\"col_heading level0 col4\" >Average Math Score</th>        <th class=\"col_heading level0 col5\" >Average Reading Score</th>        <th class=\"col_heading level0 col6\" >% Passing Math</th>        <th class=\"col_heading level0 col7\" >% Passing Reading</th>        <th class=\"col_heading level0 col8\" >% Overall Passing</th>    </tr></thead><tbody>\n",
       "                <tr>\n",
       "                        <th id=\"T_a5d32ef1_7ea8_11eb_b5ab_f8e4e39641cclevel0_row0\" class=\"row_heading level0 row0\" >Bailey High School</th>\n",
       "                        <td id=\"T_a5d32ef1_7ea8_11eb_b5ab_f8e4e39641ccrow0_col0\" class=\"data row0 col0\" >District</td>\n",
       "                        <td id=\"T_a5d32ef1_7ea8_11eb_b5ab_f8e4e39641ccrow0_col1\" class=\"data row0 col1\" >4976</td>\n",
       "                        <td id=\"T_a5d32ef1_7ea8_11eb_b5ab_f8e4e39641ccrow0_col2\" class=\"data row0 col2\" >$        3,124,928.00</td>\n",
       "                        <td id=\"T_a5d32ef1_7ea8_11eb_b5ab_f8e4e39641ccrow0_col3\" class=\"data row0 col3\" >$              628.00</td>\n",
       "                        <td id=\"T_a5d32ef1_7ea8_11eb_b5ab_f8e4e39641ccrow0_col4\" class=\"data row0 col4\" >77.048432</td>\n",
       "                        <td id=\"T_a5d32ef1_7ea8_11eb_b5ab_f8e4e39641ccrow0_col5\" class=\"data row0 col5\" >81.033963</td>\n",
       "                        <td id=\"T_a5d32ef1_7ea8_11eb_b5ab_f8e4e39641ccrow0_col6\" class=\"data row0 col6\" >66.680064</td>\n",
       "                        <td id=\"T_a5d32ef1_7ea8_11eb_b5ab_f8e4e39641ccrow0_col7\" class=\"data row0 col7\" >81.933280</td>\n",
       "                        <td id=\"T_a5d32ef1_7ea8_11eb_b5ab_f8e4e39641ccrow0_col8\" class=\"data row0 col8\" >54.642283</td>\n",
       "            </tr>\n",
       "            <tr>\n",
       "                        <th id=\"T_a5d32ef1_7ea8_11eb_b5ab_f8e4e39641cclevel0_row1\" class=\"row_heading level0 row1\" >Cabrera High School</th>\n",
       "                        <td id=\"T_a5d32ef1_7ea8_11eb_b5ab_f8e4e39641ccrow1_col0\" class=\"data row1 col0\" >Charter</td>\n",
       "                        <td id=\"T_a5d32ef1_7ea8_11eb_b5ab_f8e4e39641ccrow1_col1\" class=\"data row1 col1\" >1858</td>\n",
       "                        <td id=\"T_a5d32ef1_7ea8_11eb_b5ab_f8e4e39641ccrow1_col2\" class=\"data row1 col2\" >$        1,081,356.00</td>\n",
       "                        <td id=\"T_a5d32ef1_7ea8_11eb_b5ab_f8e4e39641ccrow1_col3\" class=\"data row1 col3\" >$              582.00</td>\n",
       "                        <td id=\"T_a5d32ef1_7ea8_11eb_b5ab_f8e4e39641ccrow1_col4\" class=\"data row1 col4\" >83.061895</td>\n",
       "                        <td id=\"T_a5d32ef1_7ea8_11eb_b5ab_f8e4e39641ccrow1_col5\" class=\"data row1 col5\" >83.975780</td>\n",
       "                        <td id=\"T_a5d32ef1_7ea8_11eb_b5ab_f8e4e39641ccrow1_col6\" class=\"data row1 col6\" >94.133477</td>\n",
       "                        <td id=\"T_a5d32ef1_7ea8_11eb_b5ab_f8e4e39641ccrow1_col7\" class=\"data row1 col7\" >97.039828</td>\n",
       "                        <td id=\"T_a5d32ef1_7ea8_11eb_b5ab_f8e4e39641ccrow1_col8\" class=\"data row1 col8\" >91.334769</td>\n",
       "            </tr>\n",
       "            <tr>\n",
       "                        <th id=\"T_a5d32ef1_7ea8_11eb_b5ab_f8e4e39641cclevel0_row2\" class=\"row_heading level0 row2\" >Figueroa High School</th>\n",
       "                        <td id=\"T_a5d32ef1_7ea8_11eb_b5ab_f8e4e39641ccrow2_col0\" class=\"data row2 col0\" >District</td>\n",
       "                        <td id=\"T_a5d32ef1_7ea8_11eb_b5ab_f8e4e39641ccrow2_col1\" class=\"data row2 col1\" >2949</td>\n",
       "                        <td id=\"T_a5d32ef1_7ea8_11eb_b5ab_f8e4e39641ccrow2_col2\" class=\"data row2 col2\" >$        1,884,411.00</td>\n",
       "                        <td id=\"T_a5d32ef1_7ea8_11eb_b5ab_f8e4e39641ccrow2_col3\" class=\"data row2 col3\" >$              639.00</td>\n",
       "                        <td id=\"T_a5d32ef1_7ea8_11eb_b5ab_f8e4e39641ccrow2_col4\" class=\"data row2 col4\" >76.711767</td>\n",
       "                        <td id=\"T_a5d32ef1_7ea8_11eb_b5ab_f8e4e39641ccrow2_col5\" class=\"data row2 col5\" >81.158020</td>\n",
       "                        <td id=\"T_a5d32ef1_7ea8_11eb_b5ab_f8e4e39641ccrow2_col6\" class=\"data row2 col6\" >65.988471</td>\n",
       "                        <td id=\"T_a5d32ef1_7ea8_11eb_b5ab_f8e4e39641ccrow2_col7\" class=\"data row2 col7\" >80.739234</td>\n",
       "                        <td id=\"T_a5d32ef1_7ea8_11eb_b5ab_f8e4e39641ccrow2_col8\" class=\"data row2 col8\" >53.204476</td>\n",
       "            </tr>\n",
       "            <tr>\n",
       "                        <th id=\"T_a5d32ef1_7ea8_11eb_b5ab_f8e4e39641cclevel0_row3\" class=\"row_heading level0 row3\" >Ford High School</th>\n",
       "                        <td id=\"T_a5d32ef1_7ea8_11eb_b5ab_f8e4e39641ccrow3_col0\" class=\"data row3 col0\" >District</td>\n",
       "                        <td id=\"T_a5d32ef1_7ea8_11eb_b5ab_f8e4e39641ccrow3_col1\" class=\"data row3 col1\" >2739</td>\n",
       "                        <td id=\"T_a5d32ef1_7ea8_11eb_b5ab_f8e4e39641ccrow3_col2\" class=\"data row3 col2\" >$        1,763,916.00</td>\n",
       "                        <td id=\"T_a5d32ef1_7ea8_11eb_b5ab_f8e4e39641ccrow3_col3\" class=\"data row3 col3\" >$              644.00</td>\n",
       "                        <td id=\"T_a5d32ef1_7ea8_11eb_b5ab_f8e4e39641ccrow3_col4\" class=\"data row3 col4\" >77.102592</td>\n",
       "                        <td id=\"T_a5d32ef1_7ea8_11eb_b5ab_f8e4e39641ccrow3_col5\" class=\"data row3 col5\" >80.746258</td>\n",
       "                        <td id=\"T_a5d32ef1_7ea8_11eb_b5ab_f8e4e39641ccrow3_col6\" class=\"data row3 col6\" >68.309602</td>\n",
       "                        <td id=\"T_a5d32ef1_7ea8_11eb_b5ab_f8e4e39641ccrow3_col7\" class=\"data row3 col7\" >79.299014</td>\n",
       "                        <td id=\"T_a5d32ef1_7ea8_11eb_b5ab_f8e4e39641ccrow3_col8\" class=\"data row3 col8\" >54.289887</td>\n",
       "            </tr>\n",
       "            <tr>\n",
       "                        <th id=\"T_a5d32ef1_7ea8_11eb_b5ab_f8e4e39641cclevel0_row4\" class=\"row_heading level0 row4\" >Griffin High School</th>\n",
       "                        <td id=\"T_a5d32ef1_7ea8_11eb_b5ab_f8e4e39641ccrow4_col0\" class=\"data row4 col0\" >Charter</td>\n",
       "                        <td id=\"T_a5d32ef1_7ea8_11eb_b5ab_f8e4e39641ccrow4_col1\" class=\"data row4 col1\" >1468</td>\n",
       "                        <td id=\"T_a5d32ef1_7ea8_11eb_b5ab_f8e4e39641ccrow4_col2\" class=\"data row4 col2\" >$          917,500.00</td>\n",
       "                        <td id=\"T_a5d32ef1_7ea8_11eb_b5ab_f8e4e39641ccrow4_col3\" class=\"data row4 col3\" >$              625.00</td>\n",
       "                        <td id=\"T_a5d32ef1_7ea8_11eb_b5ab_f8e4e39641ccrow4_col4\" class=\"data row4 col4\" >83.351499</td>\n",
       "                        <td id=\"T_a5d32ef1_7ea8_11eb_b5ab_f8e4e39641ccrow4_col5\" class=\"data row4 col5\" >83.816757</td>\n",
       "                        <td id=\"T_a5d32ef1_7ea8_11eb_b5ab_f8e4e39641ccrow4_col6\" class=\"data row4 col6\" >93.392371</td>\n",
       "                        <td id=\"T_a5d32ef1_7ea8_11eb_b5ab_f8e4e39641ccrow4_col7\" class=\"data row4 col7\" >97.138965</td>\n",
       "                        <td id=\"T_a5d32ef1_7ea8_11eb_b5ab_f8e4e39641ccrow4_col8\" class=\"data row4 col8\" >90.599455</td>\n",
       "            </tr>\n",
       "            <tr>\n",
       "                        <th id=\"T_a5d32ef1_7ea8_11eb_b5ab_f8e4e39641cclevel0_row5\" class=\"row_heading level0 row5\" >Hernandez High School</th>\n",
       "                        <td id=\"T_a5d32ef1_7ea8_11eb_b5ab_f8e4e39641ccrow5_col0\" class=\"data row5 col0\" >District</td>\n",
       "                        <td id=\"T_a5d32ef1_7ea8_11eb_b5ab_f8e4e39641ccrow5_col1\" class=\"data row5 col1\" >4635</td>\n",
       "                        <td id=\"T_a5d32ef1_7ea8_11eb_b5ab_f8e4e39641ccrow5_col2\" class=\"data row5 col2\" >$        3,022,020.00</td>\n",
       "                        <td id=\"T_a5d32ef1_7ea8_11eb_b5ab_f8e4e39641ccrow5_col3\" class=\"data row5 col3\" >$              652.00</td>\n",
       "                        <td id=\"T_a5d32ef1_7ea8_11eb_b5ab_f8e4e39641ccrow5_col4\" class=\"data row5 col4\" >77.289752</td>\n",
       "                        <td id=\"T_a5d32ef1_7ea8_11eb_b5ab_f8e4e39641ccrow5_col5\" class=\"data row5 col5\" >80.934412</td>\n",
       "                        <td id=\"T_a5d32ef1_7ea8_11eb_b5ab_f8e4e39641ccrow5_col6\" class=\"data row5 col6\" >66.752967</td>\n",
       "                        <td id=\"T_a5d32ef1_7ea8_11eb_b5ab_f8e4e39641ccrow5_col7\" class=\"data row5 col7\" >80.862999</td>\n",
       "                        <td id=\"T_a5d32ef1_7ea8_11eb_b5ab_f8e4e39641ccrow5_col8\" class=\"data row5 col8\" >53.527508</td>\n",
       "            </tr>\n",
       "            <tr>\n",
       "                        <th id=\"T_a5d32ef1_7ea8_11eb_b5ab_f8e4e39641cclevel0_row6\" class=\"row_heading level0 row6\" >Holden High School</th>\n",
       "                        <td id=\"T_a5d32ef1_7ea8_11eb_b5ab_f8e4e39641ccrow6_col0\" class=\"data row6 col0\" >Charter</td>\n",
       "                        <td id=\"T_a5d32ef1_7ea8_11eb_b5ab_f8e4e39641ccrow6_col1\" class=\"data row6 col1\" >427</td>\n",
       "                        <td id=\"T_a5d32ef1_7ea8_11eb_b5ab_f8e4e39641ccrow6_col2\" class=\"data row6 col2\" >$          248,087.00</td>\n",
       "                        <td id=\"T_a5d32ef1_7ea8_11eb_b5ab_f8e4e39641ccrow6_col3\" class=\"data row6 col3\" >$              581.00</td>\n",
       "                        <td id=\"T_a5d32ef1_7ea8_11eb_b5ab_f8e4e39641ccrow6_col4\" class=\"data row6 col4\" >83.803279</td>\n",
       "                        <td id=\"T_a5d32ef1_7ea8_11eb_b5ab_f8e4e39641ccrow6_col5\" class=\"data row6 col5\" >83.814988</td>\n",
       "                        <td id=\"T_a5d32ef1_7ea8_11eb_b5ab_f8e4e39641ccrow6_col6\" class=\"data row6 col6\" >92.505855</td>\n",
       "                        <td id=\"T_a5d32ef1_7ea8_11eb_b5ab_f8e4e39641ccrow6_col7\" class=\"data row6 col7\" >96.252927</td>\n",
       "                        <td id=\"T_a5d32ef1_7ea8_11eb_b5ab_f8e4e39641ccrow6_col8\" class=\"data row6 col8\" >89.227166</td>\n",
       "            </tr>\n",
       "            <tr>\n",
       "                        <th id=\"T_a5d32ef1_7ea8_11eb_b5ab_f8e4e39641cclevel0_row7\" class=\"row_heading level0 row7\" >Huang High School</th>\n",
       "                        <td id=\"T_a5d32ef1_7ea8_11eb_b5ab_f8e4e39641ccrow7_col0\" class=\"data row7 col0\" >District</td>\n",
       "                        <td id=\"T_a5d32ef1_7ea8_11eb_b5ab_f8e4e39641ccrow7_col1\" class=\"data row7 col1\" >2917</td>\n",
       "                        <td id=\"T_a5d32ef1_7ea8_11eb_b5ab_f8e4e39641ccrow7_col2\" class=\"data row7 col2\" >$        1,910,635.00</td>\n",
       "                        <td id=\"T_a5d32ef1_7ea8_11eb_b5ab_f8e4e39641ccrow7_col3\" class=\"data row7 col3\" >$              655.00</td>\n",
       "                        <td id=\"T_a5d32ef1_7ea8_11eb_b5ab_f8e4e39641ccrow7_col4\" class=\"data row7 col4\" >76.629414</td>\n",
       "                        <td id=\"T_a5d32ef1_7ea8_11eb_b5ab_f8e4e39641ccrow7_col5\" class=\"data row7 col5\" >81.182722</td>\n",
       "                        <td id=\"T_a5d32ef1_7ea8_11eb_b5ab_f8e4e39641ccrow7_col6\" class=\"data row7 col6\" >65.683922</td>\n",
       "                        <td id=\"T_a5d32ef1_7ea8_11eb_b5ab_f8e4e39641ccrow7_col7\" class=\"data row7 col7\" >81.316421</td>\n",
       "                        <td id=\"T_a5d32ef1_7ea8_11eb_b5ab_f8e4e39641ccrow7_col8\" class=\"data row7 col8\" >53.513884</td>\n",
       "            </tr>\n",
       "            <tr>\n",
       "                        <th id=\"T_a5d32ef1_7ea8_11eb_b5ab_f8e4e39641cclevel0_row8\" class=\"row_heading level0 row8\" >Johnson High School</th>\n",
       "                        <td id=\"T_a5d32ef1_7ea8_11eb_b5ab_f8e4e39641ccrow8_col0\" class=\"data row8 col0\" >District</td>\n",
       "                        <td id=\"T_a5d32ef1_7ea8_11eb_b5ab_f8e4e39641ccrow8_col1\" class=\"data row8 col1\" >4761</td>\n",
       "                        <td id=\"T_a5d32ef1_7ea8_11eb_b5ab_f8e4e39641ccrow8_col2\" class=\"data row8 col2\" >$        3,094,650.00</td>\n",
       "                        <td id=\"T_a5d32ef1_7ea8_11eb_b5ab_f8e4e39641ccrow8_col3\" class=\"data row8 col3\" >$              650.00</td>\n",
       "                        <td id=\"T_a5d32ef1_7ea8_11eb_b5ab_f8e4e39641ccrow8_col4\" class=\"data row8 col4\" >77.072464</td>\n",
       "                        <td id=\"T_a5d32ef1_7ea8_11eb_b5ab_f8e4e39641ccrow8_col5\" class=\"data row8 col5\" >80.966394</td>\n",
       "                        <td id=\"T_a5d32ef1_7ea8_11eb_b5ab_f8e4e39641ccrow8_col6\" class=\"data row8 col6\" >66.057551</td>\n",
       "                        <td id=\"T_a5d32ef1_7ea8_11eb_b5ab_f8e4e39641ccrow8_col7\" class=\"data row8 col7\" >81.222432</td>\n",
       "                        <td id=\"T_a5d32ef1_7ea8_11eb_b5ab_f8e4e39641ccrow8_col8\" class=\"data row8 col8\" >53.539172</td>\n",
       "            </tr>\n",
       "            <tr>\n",
       "                        <th id=\"T_a5d32ef1_7ea8_11eb_b5ab_f8e4e39641cclevel0_row9\" class=\"row_heading level0 row9\" >Pena High School</th>\n",
       "                        <td id=\"T_a5d32ef1_7ea8_11eb_b5ab_f8e4e39641ccrow9_col0\" class=\"data row9 col0\" >Charter</td>\n",
       "                        <td id=\"T_a5d32ef1_7ea8_11eb_b5ab_f8e4e39641ccrow9_col1\" class=\"data row9 col1\" >962</td>\n",
       "                        <td id=\"T_a5d32ef1_7ea8_11eb_b5ab_f8e4e39641ccrow9_col2\" class=\"data row9 col2\" >$          585,858.00</td>\n",
       "                        <td id=\"T_a5d32ef1_7ea8_11eb_b5ab_f8e4e39641ccrow9_col3\" class=\"data row9 col3\" >$              609.00</td>\n",
       "                        <td id=\"T_a5d32ef1_7ea8_11eb_b5ab_f8e4e39641ccrow9_col4\" class=\"data row9 col4\" >83.839917</td>\n",
       "                        <td id=\"T_a5d32ef1_7ea8_11eb_b5ab_f8e4e39641ccrow9_col5\" class=\"data row9 col5\" >84.044699</td>\n",
       "                        <td id=\"T_a5d32ef1_7ea8_11eb_b5ab_f8e4e39641ccrow9_col6\" class=\"data row9 col6\" >94.594595</td>\n",
       "                        <td id=\"T_a5d32ef1_7ea8_11eb_b5ab_f8e4e39641ccrow9_col7\" class=\"data row9 col7\" >95.945946</td>\n",
       "                        <td id=\"T_a5d32ef1_7ea8_11eb_b5ab_f8e4e39641ccrow9_col8\" class=\"data row9 col8\" >90.540541</td>\n",
       "            </tr>\n",
       "            <tr>\n",
       "                        <th id=\"T_a5d32ef1_7ea8_11eb_b5ab_f8e4e39641cclevel0_row10\" class=\"row_heading level0 row10\" >Rodriguez High School</th>\n",
       "                        <td id=\"T_a5d32ef1_7ea8_11eb_b5ab_f8e4e39641ccrow10_col0\" class=\"data row10 col0\" >District</td>\n",
       "                        <td id=\"T_a5d32ef1_7ea8_11eb_b5ab_f8e4e39641ccrow10_col1\" class=\"data row10 col1\" >3999</td>\n",
       "                        <td id=\"T_a5d32ef1_7ea8_11eb_b5ab_f8e4e39641ccrow10_col2\" class=\"data row10 col2\" >$        2,547,363.00</td>\n",
       "                        <td id=\"T_a5d32ef1_7ea8_11eb_b5ab_f8e4e39641ccrow10_col3\" class=\"data row10 col3\" >$              637.00</td>\n",
       "                        <td id=\"T_a5d32ef1_7ea8_11eb_b5ab_f8e4e39641ccrow10_col4\" class=\"data row10 col4\" >76.842711</td>\n",
       "                        <td id=\"T_a5d32ef1_7ea8_11eb_b5ab_f8e4e39641ccrow10_col5\" class=\"data row10 col5\" >80.744686</td>\n",
       "                        <td id=\"T_a5d32ef1_7ea8_11eb_b5ab_f8e4e39641ccrow10_col6\" class=\"data row10 col6\" >66.366592</td>\n",
       "                        <td id=\"T_a5d32ef1_7ea8_11eb_b5ab_f8e4e39641ccrow10_col7\" class=\"data row10 col7\" >80.220055</td>\n",
       "                        <td id=\"T_a5d32ef1_7ea8_11eb_b5ab_f8e4e39641ccrow10_col8\" class=\"data row10 col8\" >52.988247</td>\n",
       "            </tr>\n",
       "            <tr>\n",
       "                        <th id=\"T_a5d32ef1_7ea8_11eb_b5ab_f8e4e39641cclevel0_row11\" class=\"row_heading level0 row11\" >Shelton High School</th>\n",
       "                        <td id=\"T_a5d32ef1_7ea8_11eb_b5ab_f8e4e39641ccrow11_col0\" class=\"data row11 col0\" >Charter</td>\n",
       "                        <td id=\"T_a5d32ef1_7ea8_11eb_b5ab_f8e4e39641ccrow11_col1\" class=\"data row11 col1\" >1761</td>\n",
       "                        <td id=\"T_a5d32ef1_7ea8_11eb_b5ab_f8e4e39641ccrow11_col2\" class=\"data row11 col2\" >$        1,056,600.00</td>\n",
       "                        <td id=\"T_a5d32ef1_7ea8_11eb_b5ab_f8e4e39641ccrow11_col3\" class=\"data row11 col3\" >$              600.00</td>\n",
       "                        <td id=\"T_a5d32ef1_7ea8_11eb_b5ab_f8e4e39641ccrow11_col4\" class=\"data row11 col4\" >83.359455</td>\n",
       "                        <td id=\"T_a5d32ef1_7ea8_11eb_b5ab_f8e4e39641ccrow11_col5\" class=\"data row11 col5\" >83.725724</td>\n",
       "                        <td id=\"T_a5d32ef1_7ea8_11eb_b5ab_f8e4e39641ccrow11_col6\" class=\"data row11 col6\" >93.867121</td>\n",
       "                        <td id=\"T_a5d32ef1_7ea8_11eb_b5ab_f8e4e39641ccrow11_col7\" class=\"data row11 col7\" >95.854628</td>\n",
       "                        <td id=\"T_a5d32ef1_7ea8_11eb_b5ab_f8e4e39641ccrow11_col8\" class=\"data row11 col8\" >89.892107</td>\n",
       "            </tr>\n",
       "            <tr>\n",
       "                        <th id=\"T_a5d32ef1_7ea8_11eb_b5ab_f8e4e39641cclevel0_row12\" class=\"row_heading level0 row12\" >Thomas High School</th>\n",
       "                        <td id=\"T_a5d32ef1_7ea8_11eb_b5ab_f8e4e39641ccrow12_col0\" class=\"data row12 col0\" >Charter</td>\n",
       "                        <td id=\"T_a5d32ef1_7ea8_11eb_b5ab_f8e4e39641ccrow12_col1\" class=\"data row12 col1\" >1635</td>\n",
       "                        <td id=\"T_a5d32ef1_7ea8_11eb_b5ab_f8e4e39641ccrow12_col2\" class=\"data row12 col2\" >$        1,043,130.00</td>\n",
       "                        <td id=\"T_a5d32ef1_7ea8_11eb_b5ab_f8e4e39641ccrow12_col3\" class=\"data row12 col3\" >$              638.00</td>\n",
       "                        <td id=\"T_a5d32ef1_7ea8_11eb_b5ab_f8e4e39641ccrow12_col4\" class=\"data row12 col4\" >83.418349</td>\n",
       "                        <td id=\"T_a5d32ef1_7ea8_11eb_b5ab_f8e4e39641ccrow12_col5\" class=\"data row12 col5\" >83.848930</td>\n",
       "                        <td id=\"T_a5d32ef1_7ea8_11eb_b5ab_f8e4e39641ccrow12_col6\" class=\"data row12 col6\" >93.272171</td>\n",
       "                        <td id=\"T_a5d32ef1_7ea8_11eb_b5ab_f8e4e39641ccrow12_col7\" class=\"data row12 col7\" >97.308869</td>\n",
       "                        <td id=\"T_a5d32ef1_7ea8_11eb_b5ab_f8e4e39641ccrow12_col8\" class=\"data row12 col8\" >90.948012</td>\n",
       "            </tr>\n",
       "            <tr>\n",
       "                        <th id=\"T_a5d32ef1_7ea8_11eb_b5ab_f8e4e39641cclevel0_row13\" class=\"row_heading level0 row13\" >Wilson High School</th>\n",
       "                        <td id=\"T_a5d32ef1_7ea8_11eb_b5ab_f8e4e39641ccrow13_col0\" class=\"data row13 col0\" >Charter</td>\n",
       "                        <td id=\"T_a5d32ef1_7ea8_11eb_b5ab_f8e4e39641ccrow13_col1\" class=\"data row13 col1\" >2283</td>\n",
       "                        <td id=\"T_a5d32ef1_7ea8_11eb_b5ab_f8e4e39641ccrow13_col2\" class=\"data row13 col2\" >$        1,319,574.00</td>\n",
       "                        <td id=\"T_a5d32ef1_7ea8_11eb_b5ab_f8e4e39641ccrow13_col3\" class=\"data row13 col3\" >$              578.00</td>\n",
       "                        <td id=\"T_a5d32ef1_7ea8_11eb_b5ab_f8e4e39641ccrow13_col4\" class=\"data row13 col4\" >83.274201</td>\n",
       "                        <td id=\"T_a5d32ef1_7ea8_11eb_b5ab_f8e4e39641ccrow13_col5\" class=\"data row13 col5\" >83.989488</td>\n",
       "                        <td id=\"T_a5d32ef1_7ea8_11eb_b5ab_f8e4e39641ccrow13_col6\" class=\"data row13 col6\" >93.867718</td>\n",
       "                        <td id=\"T_a5d32ef1_7ea8_11eb_b5ab_f8e4e39641ccrow13_col7\" class=\"data row13 col7\" >96.539641</td>\n",
       "                        <td id=\"T_a5d32ef1_7ea8_11eb_b5ab_f8e4e39641ccrow13_col8\" class=\"data row13 col8\" >90.582567</td>\n",
       "            </tr>\n",
       "            <tr>\n",
       "                        <th id=\"T_a5d32ef1_7ea8_11eb_b5ab_f8e4e39641cclevel0_row14\" class=\"row_heading level0 row14\" >Wright High School</th>\n",
       "                        <td id=\"T_a5d32ef1_7ea8_11eb_b5ab_f8e4e39641ccrow14_col0\" class=\"data row14 col0\" >Charter</td>\n",
       "                        <td id=\"T_a5d32ef1_7ea8_11eb_b5ab_f8e4e39641ccrow14_col1\" class=\"data row14 col1\" >1800</td>\n",
       "                        <td id=\"T_a5d32ef1_7ea8_11eb_b5ab_f8e4e39641ccrow14_col2\" class=\"data row14 col2\" >$        1,049,400.00</td>\n",
       "                        <td id=\"T_a5d32ef1_7ea8_11eb_b5ab_f8e4e39641ccrow14_col3\" class=\"data row14 col3\" >$              583.00</td>\n",
       "                        <td id=\"T_a5d32ef1_7ea8_11eb_b5ab_f8e4e39641ccrow14_col4\" class=\"data row14 col4\" >83.682222</td>\n",
       "                        <td id=\"T_a5d32ef1_7ea8_11eb_b5ab_f8e4e39641ccrow14_col5\" class=\"data row14 col5\" >83.955000</td>\n",
       "                        <td id=\"T_a5d32ef1_7ea8_11eb_b5ab_f8e4e39641ccrow14_col6\" class=\"data row14 col6\" >93.333333</td>\n",
       "                        <td id=\"T_a5d32ef1_7ea8_11eb_b5ab_f8e4e39641ccrow14_col7\" class=\"data row14 col7\" >96.611111</td>\n",
       "                        <td id=\"T_a5d32ef1_7ea8_11eb_b5ab_f8e4e39641ccrow14_col8\" class=\"data row14 col8\" >90.333333</td>\n",
       "            </tr>\n",
       "    </tbody></table>"
      ],
      "text/plain": [
       "<pandas.io.formats.style.Styler at 0x1ca011d7160>"
      ]
     },
     "execution_count": 271,
     "metadata": {},
     "output_type": "execute_result"
    }
   ],
   "source": [
    "#School Summary\n",
    "#school_data_complete.set_index(\"school_name\",inplace=True)\n",
    "s_data=({\"School Type\":temp[\"type\"], \"Total Students\": stud_school,\"Total School Budget\": school_bud, \"Per Student Budget\": perStu_bud,\"Average Math Score\": s_aveMath,\"Average Reading Score\": s_aveRead, \"% Passing Math\": s_pasMathpre, \"% Passing Reading\": s_pasReadpre, \"% Overall Passing\": s_overpasPre})\n",
    "\n",
    "school_sum= pd.DataFrame(s_data)\n",
    "school_sum =school_sum.style.format({\"Total School Budget\":\"${:20,.2f}\",\"Per Student Budget\": \"${:20,.2f}\"})\n",
    "school_sum\n",
    "\n"
   ]
  },
  {
   "cell_type": "code",
   "execution_count": 272,
   "metadata": {},
   "outputs": [
    {
     "data": {
      "text/html": [
       "<style  type=\"text/css\" >\n",
       "</style><table id=\"T_a5da0133_7ea8_11eb_9e63_f8e4e39641cc\" ><thead>    <tr>        <th class=\"blank level0\" ></th>        <th class=\"col_heading level0 col0\" >School Type</th>        <th class=\"col_heading level0 col1\" >Total Students</th>        <th class=\"col_heading level0 col2\" >Total School Budget</th>        <th class=\"col_heading level0 col3\" >Per Student Budget</th>        <th class=\"col_heading level0 col4\" >Average Math Score</th>        <th class=\"col_heading level0 col5\" >Average Reading Score</th>        <th class=\"col_heading level0 col6\" >% Passing Math</th>        <th class=\"col_heading level0 col7\" >% Passing Reading</th>        <th class=\"col_heading level0 col8\" >% Overall Passing</th>    </tr></thead><tbody>\n",
       "                <tr>\n",
       "                        <th id=\"T_a5da0133_7ea8_11eb_9e63_f8e4e39641cclevel0_row0\" class=\"row_heading level0 row0\" >Cabrera High School</th>\n",
       "                        <td id=\"T_a5da0133_7ea8_11eb_9e63_f8e4e39641ccrow0_col0\" class=\"data row0 col0\" >Charter</td>\n",
       "                        <td id=\"T_a5da0133_7ea8_11eb_9e63_f8e4e39641ccrow0_col1\" class=\"data row0 col1\" >1858</td>\n",
       "                        <td id=\"T_a5da0133_7ea8_11eb_9e63_f8e4e39641ccrow0_col2\" class=\"data row0 col2\" >$        1,081,356.00</td>\n",
       "                        <td id=\"T_a5da0133_7ea8_11eb_9e63_f8e4e39641ccrow0_col3\" class=\"data row0 col3\" >$              582.00</td>\n",
       "                        <td id=\"T_a5da0133_7ea8_11eb_9e63_f8e4e39641ccrow0_col4\" class=\"data row0 col4\" >83.061895</td>\n",
       "                        <td id=\"T_a5da0133_7ea8_11eb_9e63_f8e4e39641ccrow0_col5\" class=\"data row0 col5\" >83.975780</td>\n",
       "                        <td id=\"T_a5da0133_7ea8_11eb_9e63_f8e4e39641ccrow0_col6\" class=\"data row0 col6\" >94.133477</td>\n",
       "                        <td id=\"T_a5da0133_7ea8_11eb_9e63_f8e4e39641ccrow0_col7\" class=\"data row0 col7\" >97.039828</td>\n",
       "                        <td id=\"T_a5da0133_7ea8_11eb_9e63_f8e4e39641ccrow0_col8\" class=\"data row0 col8\" >91.334769</td>\n",
       "            </tr>\n",
       "            <tr>\n",
       "                        <th id=\"T_a5da0133_7ea8_11eb_9e63_f8e4e39641cclevel0_row1\" class=\"row_heading level0 row1\" >Thomas High School</th>\n",
       "                        <td id=\"T_a5da0133_7ea8_11eb_9e63_f8e4e39641ccrow1_col0\" class=\"data row1 col0\" >Charter</td>\n",
       "                        <td id=\"T_a5da0133_7ea8_11eb_9e63_f8e4e39641ccrow1_col1\" class=\"data row1 col1\" >1635</td>\n",
       "                        <td id=\"T_a5da0133_7ea8_11eb_9e63_f8e4e39641ccrow1_col2\" class=\"data row1 col2\" >$        1,043,130.00</td>\n",
       "                        <td id=\"T_a5da0133_7ea8_11eb_9e63_f8e4e39641ccrow1_col3\" class=\"data row1 col3\" >$              638.00</td>\n",
       "                        <td id=\"T_a5da0133_7ea8_11eb_9e63_f8e4e39641ccrow1_col4\" class=\"data row1 col4\" >83.418349</td>\n",
       "                        <td id=\"T_a5da0133_7ea8_11eb_9e63_f8e4e39641ccrow1_col5\" class=\"data row1 col5\" >83.848930</td>\n",
       "                        <td id=\"T_a5da0133_7ea8_11eb_9e63_f8e4e39641ccrow1_col6\" class=\"data row1 col6\" >93.272171</td>\n",
       "                        <td id=\"T_a5da0133_7ea8_11eb_9e63_f8e4e39641ccrow1_col7\" class=\"data row1 col7\" >97.308869</td>\n",
       "                        <td id=\"T_a5da0133_7ea8_11eb_9e63_f8e4e39641ccrow1_col8\" class=\"data row1 col8\" >90.948012</td>\n",
       "            </tr>\n",
       "            <tr>\n",
       "                        <th id=\"T_a5da0133_7ea8_11eb_9e63_f8e4e39641cclevel0_row2\" class=\"row_heading level0 row2\" >Griffin High School</th>\n",
       "                        <td id=\"T_a5da0133_7ea8_11eb_9e63_f8e4e39641ccrow2_col0\" class=\"data row2 col0\" >Charter</td>\n",
       "                        <td id=\"T_a5da0133_7ea8_11eb_9e63_f8e4e39641ccrow2_col1\" class=\"data row2 col1\" >1468</td>\n",
       "                        <td id=\"T_a5da0133_7ea8_11eb_9e63_f8e4e39641ccrow2_col2\" class=\"data row2 col2\" >$          917,500.00</td>\n",
       "                        <td id=\"T_a5da0133_7ea8_11eb_9e63_f8e4e39641ccrow2_col3\" class=\"data row2 col3\" >$              625.00</td>\n",
       "                        <td id=\"T_a5da0133_7ea8_11eb_9e63_f8e4e39641ccrow2_col4\" class=\"data row2 col4\" >83.351499</td>\n",
       "                        <td id=\"T_a5da0133_7ea8_11eb_9e63_f8e4e39641ccrow2_col5\" class=\"data row2 col5\" >83.816757</td>\n",
       "                        <td id=\"T_a5da0133_7ea8_11eb_9e63_f8e4e39641ccrow2_col6\" class=\"data row2 col6\" >93.392371</td>\n",
       "                        <td id=\"T_a5da0133_7ea8_11eb_9e63_f8e4e39641ccrow2_col7\" class=\"data row2 col7\" >97.138965</td>\n",
       "                        <td id=\"T_a5da0133_7ea8_11eb_9e63_f8e4e39641ccrow2_col8\" class=\"data row2 col8\" >90.599455</td>\n",
       "            </tr>\n",
       "            <tr>\n",
       "                        <th id=\"T_a5da0133_7ea8_11eb_9e63_f8e4e39641cclevel0_row3\" class=\"row_heading level0 row3\" >Wilson High School</th>\n",
       "                        <td id=\"T_a5da0133_7ea8_11eb_9e63_f8e4e39641ccrow3_col0\" class=\"data row3 col0\" >Charter</td>\n",
       "                        <td id=\"T_a5da0133_7ea8_11eb_9e63_f8e4e39641ccrow3_col1\" class=\"data row3 col1\" >2283</td>\n",
       "                        <td id=\"T_a5da0133_7ea8_11eb_9e63_f8e4e39641ccrow3_col2\" class=\"data row3 col2\" >$        1,319,574.00</td>\n",
       "                        <td id=\"T_a5da0133_7ea8_11eb_9e63_f8e4e39641ccrow3_col3\" class=\"data row3 col3\" >$              578.00</td>\n",
       "                        <td id=\"T_a5da0133_7ea8_11eb_9e63_f8e4e39641ccrow3_col4\" class=\"data row3 col4\" >83.274201</td>\n",
       "                        <td id=\"T_a5da0133_7ea8_11eb_9e63_f8e4e39641ccrow3_col5\" class=\"data row3 col5\" >83.989488</td>\n",
       "                        <td id=\"T_a5da0133_7ea8_11eb_9e63_f8e4e39641ccrow3_col6\" class=\"data row3 col6\" >93.867718</td>\n",
       "                        <td id=\"T_a5da0133_7ea8_11eb_9e63_f8e4e39641ccrow3_col7\" class=\"data row3 col7\" >96.539641</td>\n",
       "                        <td id=\"T_a5da0133_7ea8_11eb_9e63_f8e4e39641ccrow3_col8\" class=\"data row3 col8\" >90.582567</td>\n",
       "            </tr>\n",
       "            <tr>\n",
       "                        <th id=\"T_a5da0133_7ea8_11eb_9e63_f8e4e39641cclevel0_row4\" class=\"row_heading level0 row4\" >Pena High School</th>\n",
       "                        <td id=\"T_a5da0133_7ea8_11eb_9e63_f8e4e39641ccrow4_col0\" class=\"data row4 col0\" >Charter</td>\n",
       "                        <td id=\"T_a5da0133_7ea8_11eb_9e63_f8e4e39641ccrow4_col1\" class=\"data row4 col1\" >962</td>\n",
       "                        <td id=\"T_a5da0133_7ea8_11eb_9e63_f8e4e39641ccrow4_col2\" class=\"data row4 col2\" >$          585,858.00</td>\n",
       "                        <td id=\"T_a5da0133_7ea8_11eb_9e63_f8e4e39641ccrow4_col3\" class=\"data row4 col3\" >$              609.00</td>\n",
       "                        <td id=\"T_a5da0133_7ea8_11eb_9e63_f8e4e39641ccrow4_col4\" class=\"data row4 col4\" >83.839917</td>\n",
       "                        <td id=\"T_a5da0133_7ea8_11eb_9e63_f8e4e39641ccrow4_col5\" class=\"data row4 col5\" >84.044699</td>\n",
       "                        <td id=\"T_a5da0133_7ea8_11eb_9e63_f8e4e39641ccrow4_col6\" class=\"data row4 col6\" >94.594595</td>\n",
       "                        <td id=\"T_a5da0133_7ea8_11eb_9e63_f8e4e39641ccrow4_col7\" class=\"data row4 col7\" >95.945946</td>\n",
       "                        <td id=\"T_a5da0133_7ea8_11eb_9e63_f8e4e39641ccrow4_col8\" class=\"data row4 col8\" >90.540541</td>\n",
       "            </tr>\n",
       "    </tbody></table>"
      ],
      "text/plain": [
       "<pandas.io.formats.style.Styler at 0x1ca00724fa0>"
      ]
     },
     "execution_count": 272,
     "metadata": {},
     "output_type": "execute_result"
    }
   ],
   "source": [
    "# top schools \n",
    "\n",
    "top = pd.DataFrame(s_data).sort_values(\"% Overall Passing\", ascending = False).head()\n",
    "topform = top.style.format({\"Total School Budget\":\"${:20,.2f}\",\"Per Student Budget\": \"${:20,.2f}\"})\n",
    "topform"
   ]
  },
  {
   "cell_type": "markdown",
   "metadata": {},
   "source": [
    "## Bottom Performing Schools (By % Overall Passing)"
   ]
  },
  {
   "cell_type": "markdown",
   "metadata": {},
   "source": [
    "* Sort and display the five worst-performing schools by % overall passing."
   ]
  },
  {
   "cell_type": "code",
   "execution_count": 273,
   "metadata": {
    "scrolled": true
   },
   "outputs": [
    {
     "data": {
      "text/html": [
       "<style  type=\"text/css\" >\n",
       "</style><table id=\"T_a5df799f_7ea8_11eb_8623_f8e4e39641cc\" ><thead>    <tr>        <th class=\"blank level0\" ></th>        <th class=\"col_heading level0 col0\" >School Type</th>        <th class=\"col_heading level0 col1\" >Total Students</th>        <th class=\"col_heading level0 col2\" >Total School Budget</th>        <th class=\"col_heading level0 col3\" >Per Student Budget</th>        <th class=\"col_heading level0 col4\" >Average Math Score</th>        <th class=\"col_heading level0 col5\" >Average Reading Score</th>        <th class=\"col_heading level0 col6\" >% Passing Math</th>        <th class=\"col_heading level0 col7\" >% Passing Reading</th>        <th class=\"col_heading level0 col8\" >% Overall Passing</th>    </tr></thead><tbody>\n",
       "                <tr>\n",
       "                        <th id=\"T_a5df799f_7ea8_11eb_8623_f8e4e39641cclevel0_row0\" class=\"row_heading level0 row0\" >Rodriguez High School</th>\n",
       "                        <td id=\"T_a5df799f_7ea8_11eb_8623_f8e4e39641ccrow0_col0\" class=\"data row0 col0\" >District</td>\n",
       "                        <td id=\"T_a5df799f_7ea8_11eb_8623_f8e4e39641ccrow0_col1\" class=\"data row0 col1\" >3999</td>\n",
       "                        <td id=\"T_a5df799f_7ea8_11eb_8623_f8e4e39641ccrow0_col2\" class=\"data row0 col2\" >$        2,547,363.00</td>\n",
       "                        <td id=\"T_a5df799f_7ea8_11eb_8623_f8e4e39641ccrow0_col3\" class=\"data row0 col3\" >$              637.00</td>\n",
       "                        <td id=\"T_a5df799f_7ea8_11eb_8623_f8e4e39641ccrow0_col4\" class=\"data row0 col4\" >76.842711</td>\n",
       "                        <td id=\"T_a5df799f_7ea8_11eb_8623_f8e4e39641ccrow0_col5\" class=\"data row0 col5\" >80.744686</td>\n",
       "                        <td id=\"T_a5df799f_7ea8_11eb_8623_f8e4e39641ccrow0_col6\" class=\"data row0 col6\" >66.366592</td>\n",
       "                        <td id=\"T_a5df799f_7ea8_11eb_8623_f8e4e39641ccrow0_col7\" class=\"data row0 col7\" >80.220055</td>\n",
       "                        <td id=\"T_a5df799f_7ea8_11eb_8623_f8e4e39641ccrow0_col8\" class=\"data row0 col8\" >52.988247</td>\n",
       "            </tr>\n",
       "            <tr>\n",
       "                        <th id=\"T_a5df799f_7ea8_11eb_8623_f8e4e39641cclevel0_row1\" class=\"row_heading level0 row1\" >Figueroa High School</th>\n",
       "                        <td id=\"T_a5df799f_7ea8_11eb_8623_f8e4e39641ccrow1_col0\" class=\"data row1 col0\" >District</td>\n",
       "                        <td id=\"T_a5df799f_7ea8_11eb_8623_f8e4e39641ccrow1_col1\" class=\"data row1 col1\" >2949</td>\n",
       "                        <td id=\"T_a5df799f_7ea8_11eb_8623_f8e4e39641ccrow1_col2\" class=\"data row1 col2\" >$        1,884,411.00</td>\n",
       "                        <td id=\"T_a5df799f_7ea8_11eb_8623_f8e4e39641ccrow1_col3\" class=\"data row1 col3\" >$              639.00</td>\n",
       "                        <td id=\"T_a5df799f_7ea8_11eb_8623_f8e4e39641ccrow1_col4\" class=\"data row1 col4\" >76.711767</td>\n",
       "                        <td id=\"T_a5df799f_7ea8_11eb_8623_f8e4e39641ccrow1_col5\" class=\"data row1 col5\" >81.158020</td>\n",
       "                        <td id=\"T_a5df799f_7ea8_11eb_8623_f8e4e39641ccrow1_col6\" class=\"data row1 col6\" >65.988471</td>\n",
       "                        <td id=\"T_a5df799f_7ea8_11eb_8623_f8e4e39641ccrow1_col7\" class=\"data row1 col7\" >80.739234</td>\n",
       "                        <td id=\"T_a5df799f_7ea8_11eb_8623_f8e4e39641ccrow1_col8\" class=\"data row1 col8\" >53.204476</td>\n",
       "            </tr>\n",
       "            <tr>\n",
       "                        <th id=\"T_a5df799f_7ea8_11eb_8623_f8e4e39641cclevel0_row2\" class=\"row_heading level0 row2\" >Huang High School</th>\n",
       "                        <td id=\"T_a5df799f_7ea8_11eb_8623_f8e4e39641ccrow2_col0\" class=\"data row2 col0\" >District</td>\n",
       "                        <td id=\"T_a5df799f_7ea8_11eb_8623_f8e4e39641ccrow2_col1\" class=\"data row2 col1\" >2917</td>\n",
       "                        <td id=\"T_a5df799f_7ea8_11eb_8623_f8e4e39641ccrow2_col2\" class=\"data row2 col2\" >$        1,910,635.00</td>\n",
       "                        <td id=\"T_a5df799f_7ea8_11eb_8623_f8e4e39641ccrow2_col3\" class=\"data row2 col3\" >$              655.00</td>\n",
       "                        <td id=\"T_a5df799f_7ea8_11eb_8623_f8e4e39641ccrow2_col4\" class=\"data row2 col4\" >76.629414</td>\n",
       "                        <td id=\"T_a5df799f_7ea8_11eb_8623_f8e4e39641ccrow2_col5\" class=\"data row2 col5\" >81.182722</td>\n",
       "                        <td id=\"T_a5df799f_7ea8_11eb_8623_f8e4e39641ccrow2_col6\" class=\"data row2 col6\" >65.683922</td>\n",
       "                        <td id=\"T_a5df799f_7ea8_11eb_8623_f8e4e39641ccrow2_col7\" class=\"data row2 col7\" >81.316421</td>\n",
       "                        <td id=\"T_a5df799f_7ea8_11eb_8623_f8e4e39641ccrow2_col8\" class=\"data row2 col8\" >53.513884</td>\n",
       "            </tr>\n",
       "            <tr>\n",
       "                        <th id=\"T_a5df799f_7ea8_11eb_8623_f8e4e39641cclevel0_row3\" class=\"row_heading level0 row3\" >Hernandez High School</th>\n",
       "                        <td id=\"T_a5df799f_7ea8_11eb_8623_f8e4e39641ccrow3_col0\" class=\"data row3 col0\" >District</td>\n",
       "                        <td id=\"T_a5df799f_7ea8_11eb_8623_f8e4e39641ccrow3_col1\" class=\"data row3 col1\" >4635</td>\n",
       "                        <td id=\"T_a5df799f_7ea8_11eb_8623_f8e4e39641ccrow3_col2\" class=\"data row3 col2\" >$        3,022,020.00</td>\n",
       "                        <td id=\"T_a5df799f_7ea8_11eb_8623_f8e4e39641ccrow3_col3\" class=\"data row3 col3\" >$              652.00</td>\n",
       "                        <td id=\"T_a5df799f_7ea8_11eb_8623_f8e4e39641ccrow3_col4\" class=\"data row3 col4\" >77.289752</td>\n",
       "                        <td id=\"T_a5df799f_7ea8_11eb_8623_f8e4e39641ccrow3_col5\" class=\"data row3 col5\" >80.934412</td>\n",
       "                        <td id=\"T_a5df799f_7ea8_11eb_8623_f8e4e39641ccrow3_col6\" class=\"data row3 col6\" >66.752967</td>\n",
       "                        <td id=\"T_a5df799f_7ea8_11eb_8623_f8e4e39641ccrow3_col7\" class=\"data row3 col7\" >80.862999</td>\n",
       "                        <td id=\"T_a5df799f_7ea8_11eb_8623_f8e4e39641ccrow3_col8\" class=\"data row3 col8\" >53.527508</td>\n",
       "            </tr>\n",
       "            <tr>\n",
       "                        <th id=\"T_a5df799f_7ea8_11eb_8623_f8e4e39641cclevel0_row4\" class=\"row_heading level0 row4\" >Johnson High School</th>\n",
       "                        <td id=\"T_a5df799f_7ea8_11eb_8623_f8e4e39641ccrow4_col0\" class=\"data row4 col0\" >District</td>\n",
       "                        <td id=\"T_a5df799f_7ea8_11eb_8623_f8e4e39641ccrow4_col1\" class=\"data row4 col1\" >4761</td>\n",
       "                        <td id=\"T_a5df799f_7ea8_11eb_8623_f8e4e39641ccrow4_col2\" class=\"data row4 col2\" >$        3,094,650.00</td>\n",
       "                        <td id=\"T_a5df799f_7ea8_11eb_8623_f8e4e39641ccrow4_col3\" class=\"data row4 col3\" >$              650.00</td>\n",
       "                        <td id=\"T_a5df799f_7ea8_11eb_8623_f8e4e39641ccrow4_col4\" class=\"data row4 col4\" >77.072464</td>\n",
       "                        <td id=\"T_a5df799f_7ea8_11eb_8623_f8e4e39641ccrow4_col5\" class=\"data row4 col5\" >80.966394</td>\n",
       "                        <td id=\"T_a5df799f_7ea8_11eb_8623_f8e4e39641ccrow4_col6\" class=\"data row4 col6\" >66.057551</td>\n",
       "                        <td id=\"T_a5df799f_7ea8_11eb_8623_f8e4e39641ccrow4_col7\" class=\"data row4 col7\" >81.222432</td>\n",
       "                        <td id=\"T_a5df799f_7ea8_11eb_8623_f8e4e39641ccrow4_col8\" class=\"data row4 col8\" >53.539172</td>\n",
       "            </tr>\n",
       "    </tbody></table>"
      ],
      "text/plain": [
       "<pandas.io.formats.style.Styler at 0x1ca7fb82a90>"
      ]
     },
     "execution_count": 273,
     "metadata": {},
     "output_type": "execute_result"
    }
   ],
   "source": [
    "bottom = pd.DataFrame(s_data).sort_values(\"% Overall Passing\", ascending = True).head()\n",
    "bottomform = bottom.style.format({\"Total School Budget\":\"${:20,.2f}\",\"Per Student Budget\": \"${:20,.2f}\"})\n",
    "bottomform"
   ]
  },
  {
   "cell_type": "code",
   "execution_count": 274,
   "metadata": {},
   "outputs": [],
   "source": [
    "# Chart for comparison. Accidently wrote over previous charts "
   ]
  },
  {
   "cell_type": "markdown",
   "metadata": {
    "collapsed": true
   },
   "source": [
    "## Math Scores by Grade"
   ]
  },
  {
   "cell_type": "markdown",
   "metadata": {},
   "source": [
    "* Create a table that lists the average Reading Score for students of each grade level (9th, 10th, 11th, 12th) at each school.\n",
    "\n",
    "  * Create a pandas series for each grade. Hint: use a conditional statement.\n",
    "  \n",
    "  * Group each series by school\n",
    "  \n",
    "  * Combine the series into a dataframe\n",
    "  \n",
    "  * Optional: give the displayed data cleaner formatting"
   ]
  },
  {
   "cell_type": "code",
   "execution_count": 275,
   "metadata": {},
   "outputs": [
    {
     "data": {
      "text/html": [
       "<div>\n",
       "<style scoped>\n",
       "    .dataframe tbody tr th:only-of-type {\n",
       "        vertical-align: middle;\n",
       "    }\n",
       "\n",
       "    .dataframe tbody tr th {\n",
       "        vertical-align: top;\n",
       "    }\n",
       "\n",
       "    .dataframe thead th {\n",
       "        text-align: right;\n",
       "    }\n",
       "</style>\n",
       "<table border=\"1\" class=\"dataframe\">\n",
       "  <thead>\n",
       "    <tr style=\"text-align: right;\">\n",
       "      <th></th>\n",
       "      <th>Student ID</th>\n",
       "      <th>student_name</th>\n",
       "      <th>gender</th>\n",
       "      <th>grade</th>\n",
       "      <th>school_name</th>\n",
       "      <th>reading_score</th>\n",
       "      <th>math_score</th>\n",
       "      <th>School ID</th>\n",
       "      <th>type</th>\n",
       "      <th>size</th>\n",
       "      <th>budget</th>\n",
       "    </tr>\n",
       "  </thead>\n",
       "  <tbody>\n",
       "    <tr>\n",
       "      <th>0</th>\n",
       "      <td>0</td>\n",
       "      <td>Paul Bradley</td>\n",
       "      <td>M</td>\n",
       "      <td>9th</td>\n",
       "      <td>Huang High School</td>\n",
       "      <td>66</td>\n",
       "      <td>79</td>\n",
       "      <td>0</td>\n",
       "      <td>District</td>\n",
       "      <td>2917</td>\n",
       "      <td>1910635</td>\n",
       "    </tr>\n",
       "    <tr>\n",
       "      <th>1</th>\n",
       "      <td>1</td>\n",
       "      <td>Victor Smith</td>\n",
       "      <td>M</td>\n",
       "      <td>12th</td>\n",
       "      <td>Huang High School</td>\n",
       "      <td>94</td>\n",
       "      <td>61</td>\n",
       "      <td>0</td>\n",
       "      <td>District</td>\n",
       "      <td>2917</td>\n",
       "      <td>1910635</td>\n",
       "    </tr>\n",
       "    <tr>\n",
       "      <th>2</th>\n",
       "      <td>2</td>\n",
       "      <td>Kevin Rodriguez</td>\n",
       "      <td>M</td>\n",
       "      <td>12th</td>\n",
       "      <td>Huang High School</td>\n",
       "      <td>90</td>\n",
       "      <td>60</td>\n",
       "      <td>0</td>\n",
       "      <td>District</td>\n",
       "      <td>2917</td>\n",
       "      <td>1910635</td>\n",
       "    </tr>\n",
       "  </tbody>\n",
       "</table>\n",
       "</div>"
      ],
      "text/plain": [
       "   Student ID     student_name gender grade        school_name  reading_score  \\\n",
       "0           0     Paul Bradley      M   9th  Huang High School             66   \n",
       "1           1     Victor Smith      M  12th  Huang High School             94   \n",
       "2           2  Kevin Rodriguez      M  12th  Huang High School             90   \n",
       "\n",
       "   math_score  School ID      type  size   budget  \n",
       "0          79          0  District  2917  1910635  \n",
       "1          61          0  District  2917  1910635  \n",
       "2          60          0  District  2917  1910635  "
      ]
     },
     "execution_count": 275,
     "metadata": {},
     "output_type": "execute_result"
    }
   ],
   "source": [
    "#refreshing data table info\n",
    "school_data_complete = pd.merge(student_data, school_data, how=\"left\", on=[\"school_name\", \"school_name\"])\n",
    "school_data_complete.head(3)"
   ]
  },
  {
   "cell_type": "code",
   "execution_count": 276,
   "metadata": {},
   "outputs": [],
   "source": [
    "#grouping grades\n",
    "\n",
    "ninth_Math= school_data_complete.loc[school_data_complete['grade']==\"9th\"].groupby('school_name')['math_score'].mean()\n",
    "tenth_Math= school_data_complete.loc[school_data_complete['grade']==\"10th\"].groupby('school_name')['math_score'].mean()\n",
    "el_Math=school_data_complete.loc[school_data_complete['grade']==\"11th\"].groupby('school_name')['math_score'].mean()\n",
    "tw_Math = school_data_complete.loc[school_data_complete['grade']==\"12th\"].groupby('school_name')['math_score'].mean()\n"
   ]
  },
  {
   "cell_type": "code",
   "execution_count": 277,
   "metadata": {},
   "outputs": [
    {
     "data": {
      "text/html": [
       "<div>\n",
       "<style scoped>\n",
       "    .dataframe tbody tr th:only-of-type {\n",
       "        vertical-align: middle;\n",
       "    }\n",
       "\n",
       "    .dataframe tbody tr th {\n",
       "        vertical-align: top;\n",
       "    }\n",
       "\n",
       "    .dataframe thead th {\n",
       "        text-align: right;\n",
       "    }\n",
       "</style>\n",
       "<table border=\"1\" class=\"dataframe\">\n",
       "  <thead>\n",
       "    <tr style=\"text-align: right;\">\n",
       "      <th></th>\n",
       "      <th>9th</th>\n",
       "      <th>10th</th>\n",
       "      <th>11th</th>\n",
       "      <th>12th</th>\n",
       "    </tr>\n",
       "    <tr>\n",
       "      <th>school_name</th>\n",
       "      <th></th>\n",
       "      <th></th>\n",
       "      <th></th>\n",
       "      <th></th>\n",
       "    </tr>\n",
       "  </thead>\n",
       "  <tbody>\n",
       "    <tr>\n",
       "      <th>Bailey High School</th>\n",
       "      <td>77.083676</td>\n",
       "      <td>76.996772</td>\n",
       "      <td>77.515588</td>\n",
       "      <td>76.492218</td>\n",
       "    </tr>\n",
       "    <tr>\n",
       "      <th>Cabrera High School</th>\n",
       "      <td>83.094697</td>\n",
       "      <td>83.154506</td>\n",
       "      <td>82.765560</td>\n",
       "      <td>83.277487</td>\n",
       "    </tr>\n",
       "    <tr>\n",
       "      <th>Figueroa High School</th>\n",
       "      <td>76.403037</td>\n",
       "      <td>76.539974</td>\n",
       "      <td>76.884344</td>\n",
       "      <td>77.151369</td>\n",
       "    </tr>\n",
       "    <tr>\n",
       "      <th>Ford High School</th>\n",
       "      <td>77.361345</td>\n",
       "      <td>77.672316</td>\n",
       "      <td>76.918058</td>\n",
       "      <td>76.179963</td>\n",
       "    </tr>\n",
       "    <tr>\n",
       "      <th>Griffin High School</th>\n",
       "      <td>82.044010</td>\n",
       "      <td>84.229064</td>\n",
       "      <td>83.842105</td>\n",
       "      <td>83.356164</td>\n",
       "    </tr>\n",
       "    <tr>\n",
       "      <th>Hernandez High School</th>\n",
       "      <td>77.438495</td>\n",
       "      <td>77.337408</td>\n",
       "      <td>77.136029</td>\n",
       "      <td>77.186567</td>\n",
       "    </tr>\n",
       "    <tr>\n",
       "      <th>Holden High School</th>\n",
       "      <td>83.787402</td>\n",
       "      <td>83.429825</td>\n",
       "      <td>85.000000</td>\n",
       "      <td>82.855422</td>\n",
       "    </tr>\n",
       "    <tr>\n",
       "      <th>Huang High School</th>\n",
       "      <td>77.027251</td>\n",
       "      <td>75.908735</td>\n",
       "      <td>76.446602</td>\n",
       "      <td>77.225641</td>\n",
       "    </tr>\n",
       "    <tr>\n",
       "      <th>Johnson High School</th>\n",
       "      <td>77.187857</td>\n",
       "      <td>76.691117</td>\n",
       "      <td>77.491653</td>\n",
       "      <td>76.863248</td>\n",
       "    </tr>\n",
       "    <tr>\n",
       "      <th>Pena High School</th>\n",
       "      <td>83.625455</td>\n",
       "      <td>83.372000</td>\n",
       "      <td>84.328125</td>\n",
       "      <td>84.121547</td>\n",
       "    </tr>\n",
       "    <tr>\n",
       "      <th>Rodriguez High School</th>\n",
       "      <td>76.859966</td>\n",
       "      <td>76.612500</td>\n",
       "      <td>76.395626</td>\n",
       "      <td>77.690748</td>\n",
       "    </tr>\n",
       "    <tr>\n",
       "      <th>Shelton High School</th>\n",
       "      <td>83.420755</td>\n",
       "      <td>82.917411</td>\n",
       "      <td>83.383495</td>\n",
       "      <td>83.778976</td>\n",
       "    </tr>\n",
       "    <tr>\n",
       "      <th>Thomas High School</th>\n",
       "      <td>83.590022</td>\n",
       "      <td>83.087886</td>\n",
       "      <td>83.498795</td>\n",
       "      <td>83.497041</td>\n",
       "    </tr>\n",
       "    <tr>\n",
       "      <th>Wilson High School</th>\n",
       "      <td>83.085578</td>\n",
       "      <td>83.724422</td>\n",
       "      <td>83.195326</td>\n",
       "      <td>83.035794</td>\n",
       "    </tr>\n",
       "    <tr>\n",
       "      <th>Wright High School</th>\n",
       "      <td>83.264706</td>\n",
       "      <td>84.010288</td>\n",
       "      <td>83.836782</td>\n",
       "      <td>83.644986</td>\n",
       "    </tr>\n",
       "  </tbody>\n",
       "</table>\n",
       "</div>"
      ],
      "text/plain": [
       "                             9th       10th       11th       12th\n",
       "school_name                                                      \n",
       "Bailey High School     77.083676  76.996772  77.515588  76.492218\n",
       "Cabrera High School    83.094697  83.154506  82.765560  83.277487\n",
       "Figueroa High School   76.403037  76.539974  76.884344  77.151369\n",
       "Ford High School       77.361345  77.672316  76.918058  76.179963\n",
       "Griffin High School    82.044010  84.229064  83.842105  83.356164\n",
       "Hernandez High School  77.438495  77.337408  77.136029  77.186567\n",
       "Holden High School     83.787402  83.429825  85.000000  82.855422\n",
       "Huang High School      77.027251  75.908735  76.446602  77.225641\n",
       "Johnson High School    77.187857  76.691117  77.491653  76.863248\n",
       "Pena High School       83.625455  83.372000  84.328125  84.121547\n",
       "Rodriguez High School  76.859966  76.612500  76.395626  77.690748\n",
       "Shelton High School    83.420755  82.917411  83.383495  83.778976\n",
       "Thomas High School     83.590022  83.087886  83.498795  83.497041\n",
       "Wilson High School     83.085578  83.724422  83.195326  83.035794\n",
       "Wright High School     83.264706  84.010288  83.836782  83.644986"
      ]
     },
     "execution_count": 277,
     "metadata": {},
     "output_type": "execute_result"
    }
   ],
   "source": [
    "#data frame Math scores by grade \n",
    "gradedata = ({\"9th\":ninth_Math,\"10th\": tenth_Math,\"11th\": el_Math,\"12th\": tw_Math})\n",
    "grade_Math= pd.DataFrame(gradedata)\n",
    "grade_Math"
   ]
  },
  {
   "cell_type": "code",
   "execution_count": 278,
   "metadata": {},
   "outputs": [],
   "source": [
    "#Comparison DataFrame"
   ]
  },
  {
   "cell_type": "markdown",
   "metadata": {},
   "source": [
    "## Reading Score by Grade "
   ]
  },
  {
   "cell_type": "markdown",
   "metadata": {},
   "source": [
    "* Perform the same operations as above for reading scores"
   ]
  },
  {
   "cell_type": "code",
   "execution_count": 279,
   "metadata": {},
   "outputs": [
    {
     "data": {
      "text/html": [
       "<div>\n",
       "<style scoped>\n",
       "    .dataframe tbody tr th:only-of-type {\n",
       "        vertical-align: middle;\n",
       "    }\n",
       "\n",
       "    .dataframe tbody tr th {\n",
       "        vertical-align: top;\n",
       "    }\n",
       "\n",
       "    .dataframe thead th {\n",
       "        text-align: right;\n",
       "    }\n",
       "</style>\n",
       "<table border=\"1\" class=\"dataframe\">\n",
       "  <thead>\n",
       "    <tr style=\"text-align: right;\">\n",
       "      <th></th>\n",
       "      <th>Student ID</th>\n",
       "      <th>student_name</th>\n",
       "      <th>gender</th>\n",
       "      <th>grade</th>\n",
       "      <th>school_name</th>\n",
       "      <th>reading_score</th>\n",
       "      <th>math_score</th>\n",
       "      <th>School ID</th>\n",
       "      <th>type</th>\n",
       "      <th>size</th>\n",
       "      <th>budget</th>\n",
       "    </tr>\n",
       "  </thead>\n",
       "  <tbody>\n",
       "    <tr>\n",
       "      <th>0</th>\n",
       "      <td>0</td>\n",
       "      <td>Paul Bradley</td>\n",
       "      <td>M</td>\n",
       "      <td>9th</td>\n",
       "      <td>Huang High School</td>\n",
       "      <td>66</td>\n",
       "      <td>79</td>\n",
       "      <td>0</td>\n",
       "      <td>District</td>\n",
       "      <td>2917</td>\n",
       "      <td>1910635</td>\n",
       "    </tr>\n",
       "    <tr>\n",
       "      <th>1</th>\n",
       "      <td>1</td>\n",
       "      <td>Victor Smith</td>\n",
       "      <td>M</td>\n",
       "      <td>12th</td>\n",
       "      <td>Huang High School</td>\n",
       "      <td>94</td>\n",
       "      <td>61</td>\n",
       "      <td>0</td>\n",
       "      <td>District</td>\n",
       "      <td>2917</td>\n",
       "      <td>1910635</td>\n",
       "    </tr>\n",
       "    <tr>\n",
       "      <th>2</th>\n",
       "      <td>2</td>\n",
       "      <td>Kevin Rodriguez</td>\n",
       "      <td>M</td>\n",
       "      <td>12th</td>\n",
       "      <td>Huang High School</td>\n",
       "      <td>90</td>\n",
       "      <td>60</td>\n",
       "      <td>0</td>\n",
       "      <td>District</td>\n",
       "      <td>2917</td>\n",
       "      <td>1910635</td>\n",
       "    </tr>\n",
       "  </tbody>\n",
       "</table>\n",
       "</div>"
      ],
      "text/plain": [
       "   Student ID     student_name gender grade        school_name  reading_score  \\\n",
       "0           0     Paul Bradley      M   9th  Huang High School             66   \n",
       "1           1     Victor Smith      M  12th  Huang High School             94   \n",
       "2           2  Kevin Rodriguez      M  12th  Huang High School             90   \n",
       "\n",
       "   math_score  School ID      type  size   budget  \n",
       "0          79          0  District  2917  1910635  \n",
       "1          61          0  District  2917  1910635  \n",
       "2          60          0  District  2917  1910635  "
      ]
     },
     "execution_count": 279,
     "metadata": {},
     "output_type": "execute_result"
    }
   ],
   "source": [
    "#refreshing data table info\n",
    "school_data_complete = pd.merge(student_data, school_data, how=\"left\", on=[\"school_name\", \"school_name\"])\n",
    "school_data_complete.head(3)"
   ]
  },
  {
   "cell_type": "code",
   "execution_count": 280,
   "metadata": {},
   "outputs": [],
   "source": [
    "ninth_Read= school_data_complete.loc[school_data_complete['grade']==\"9th\"].groupby('school_name')['reading_score'].mean()\n",
    "tenth_Read= school_data_complete.loc[school_data_complete['grade']==\"10th\"].groupby('school_name')['reading_score'].mean()\n",
    "el_Read=school_data_complete.loc[school_data_complete['grade']==\"11th\"].groupby('school_name')['reading_score'].mean()\n",
    "tw_Read = school_data_complete.loc[school_data_complete['grade']==\"12th\"].groupby('school_name')['reading_score'].mean()"
   ]
  },
  {
   "cell_type": "code",
   "execution_count": 281,
   "metadata": {},
   "outputs": [
    {
     "data": {
      "text/html": [
       "<div>\n",
       "<style scoped>\n",
       "    .dataframe tbody tr th:only-of-type {\n",
       "        vertical-align: middle;\n",
       "    }\n",
       "\n",
       "    .dataframe tbody tr th {\n",
       "        vertical-align: top;\n",
       "    }\n",
       "\n",
       "    .dataframe thead th {\n",
       "        text-align: right;\n",
       "    }\n",
       "</style>\n",
       "<table border=\"1\" class=\"dataframe\">\n",
       "  <thead>\n",
       "    <tr style=\"text-align: right;\">\n",
       "      <th></th>\n",
       "      <th>9th</th>\n",
       "      <th>10th</th>\n",
       "      <th>11th</th>\n",
       "      <th>12th</th>\n",
       "    </tr>\n",
       "    <tr>\n",
       "      <th>school_name</th>\n",
       "      <th></th>\n",
       "      <th></th>\n",
       "      <th></th>\n",
       "      <th></th>\n",
       "    </tr>\n",
       "  </thead>\n",
       "  <tbody>\n",
       "    <tr>\n",
       "      <th>Bailey High School</th>\n",
       "      <td>81.303155</td>\n",
       "      <td>80.907183</td>\n",
       "      <td>80.945643</td>\n",
       "      <td>80.912451</td>\n",
       "    </tr>\n",
       "    <tr>\n",
       "      <th>Cabrera High School</th>\n",
       "      <td>83.676136</td>\n",
       "      <td>84.253219</td>\n",
       "      <td>83.788382</td>\n",
       "      <td>84.287958</td>\n",
       "    </tr>\n",
       "    <tr>\n",
       "      <th>Figueroa High School</th>\n",
       "      <td>81.198598</td>\n",
       "      <td>81.408912</td>\n",
       "      <td>80.640339</td>\n",
       "      <td>81.384863</td>\n",
       "    </tr>\n",
       "    <tr>\n",
       "      <th>Ford High School</th>\n",
       "      <td>80.632653</td>\n",
       "      <td>81.262712</td>\n",
       "      <td>80.403642</td>\n",
       "      <td>80.662338</td>\n",
       "    </tr>\n",
       "    <tr>\n",
       "      <th>Griffin High School</th>\n",
       "      <td>83.369193</td>\n",
       "      <td>83.706897</td>\n",
       "      <td>84.288089</td>\n",
       "      <td>84.013699</td>\n",
       "    </tr>\n",
       "    <tr>\n",
       "      <th>Hernandez High School</th>\n",
       "      <td>80.866860</td>\n",
       "      <td>80.660147</td>\n",
       "      <td>81.396140</td>\n",
       "      <td>80.857143</td>\n",
       "    </tr>\n",
       "    <tr>\n",
       "      <th>Holden High School</th>\n",
       "      <td>83.677165</td>\n",
       "      <td>83.324561</td>\n",
       "      <td>83.815534</td>\n",
       "      <td>84.698795</td>\n",
       "    </tr>\n",
       "    <tr>\n",
       "      <th>Huang High School</th>\n",
       "      <td>81.290284</td>\n",
       "      <td>81.512386</td>\n",
       "      <td>81.417476</td>\n",
       "      <td>80.305983</td>\n",
       "    </tr>\n",
       "    <tr>\n",
       "      <th>Johnson High School</th>\n",
       "      <td>81.260714</td>\n",
       "      <td>80.773431</td>\n",
       "      <td>80.616027</td>\n",
       "      <td>81.227564</td>\n",
       "    </tr>\n",
       "    <tr>\n",
       "      <th>Pena High School</th>\n",
       "      <td>83.807273</td>\n",
       "      <td>83.612000</td>\n",
       "      <td>84.335938</td>\n",
       "      <td>84.591160</td>\n",
       "    </tr>\n",
       "    <tr>\n",
       "      <th>Rodriguez High School</th>\n",
       "      <td>80.993127</td>\n",
       "      <td>80.629808</td>\n",
       "      <td>80.864811</td>\n",
       "      <td>80.376426</td>\n",
       "    </tr>\n",
       "    <tr>\n",
       "      <th>Shelton High School</th>\n",
       "      <td>84.122642</td>\n",
       "      <td>83.441964</td>\n",
       "      <td>84.373786</td>\n",
       "      <td>82.781671</td>\n",
       "    </tr>\n",
       "    <tr>\n",
       "      <th>Thomas High School</th>\n",
       "      <td>83.728850</td>\n",
       "      <td>84.254157</td>\n",
       "      <td>83.585542</td>\n",
       "      <td>83.831361</td>\n",
       "    </tr>\n",
       "    <tr>\n",
       "      <th>Wilson High School</th>\n",
       "      <td>83.939778</td>\n",
       "      <td>84.021452</td>\n",
       "      <td>83.764608</td>\n",
       "      <td>84.317673</td>\n",
       "    </tr>\n",
       "    <tr>\n",
       "      <th>Wright High School</th>\n",
       "      <td>83.833333</td>\n",
       "      <td>83.812757</td>\n",
       "      <td>84.156322</td>\n",
       "      <td>84.073171</td>\n",
       "    </tr>\n",
       "  </tbody>\n",
       "</table>\n",
       "</div>"
      ],
      "text/plain": [
       "                             9th       10th       11th       12th\n",
       "school_name                                                      \n",
       "Bailey High School     81.303155  80.907183  80.945643  80.912451\n",
       "Cabrera High School    83.676136  84.253219  83.788382  84.287958\n",
       "Figueroa High School   81.198598  81.408912  80.640339  81.384863\n",
       "Ford High School       80.632653  81.262712  80.403642  80.662338\n",
       "Griffin High School    83.369193  83.706897  84.288089  84.013699\n",
       "Hernandez High School  80.866860  80.660147  81.396140  80.857143\n",
       "Holden High School     83.677165  83.324561  83.815534  84.698795\n",
       "Huang High School      81.290284  81.512386  81.417476  80.305983\n",
       "Johnson High School    81.260714  80.773431  80.616027  81.227564\n",
       "Pena High School       83.807273  83.612000  84.335938  84.591160\n",
       "Rodriguez High School  80.993127  80.629808  80.864811  80.376426\n",
       "Shelton High School    84.122642  83.441964  84.373786  82.781671\n",
       "Thomas High School     83.728850  84.254157  83.585542  83.831361\n",
       "Wilson High School     83.939778  84.021452  83.764608  84.317673\n",
       "Wright High School     83.833333  83.812757  84.156322  84.073171"
      ]
     },
     "execution_count": 281,
     "metadata": {},
     "output_type": "execute_result"
    }
   ],
   "source": [
    "#data frame Math scores by grade \n",
    "gradedataRead = ({\"9th\":ninth_Read,\"10th\": tenth_Read,\"11th\": el_Read,\"12th\": tw_Read})\n",
    "grade_Read= pd.DataFrame(gradedataRead)\n",
    "grade_Read"
   ]
  },
  {
   "cell_type": "code",
   "execution_count": 282,
   "metadata": {},
   "outputs": [],
   "source": [
    "# comparison DataFrame"
   ]
  },
  {
   "cell_type": "markdown",
   "metadata": {},
   "source": [
    "## Scores by School Spending"
   ]
  },
  {
   "cell_type": "markdown",
   "metadata": {},
   "source": [
    "* Create a table that breaks down school performances based on average Spending Ranges (Per Student). Use 4 reasonable bins to group school spending. Include in the table each of the following:\n",
    "  * Average Math Score\n",
    "  * Average Reading Score\n",
    "  * % Passing Math\n",
    "  * % Passing Reading\n",
    "  * Overall Passing Rate (Average of the above two)"
   ]
  },
  {
   "cell_type": "code",
   "execution_count": 283,
   "metadata": {},
   "outputs": [
    {
     "data": {
      "text/html": [
       "<div>\n",
       "<style scoped>\n",
       "    .dataframe tbody tr th:only-of-type {\n",
       "        vertical-align: middle;\n",
       "    }\n",
       "\n",
       "    .dataframe tbody tr th {\n",
       "        vertical-align: top;\n",
       "    }\n",
       "\n",
       "    .dataframe thead th {\n",
       "        text-align: right;\n",
       "    }\n",
       "</style>\n",
       "<table border=\"1\" class=\"dataframe\">\n",
       "  <thead>\n",
       "    <tr style=\"text-align: right;\">\n",
       "      <th></th>\n",
       "      <th>Student ID</th>\n",
       "      <th>student_name</th>\n",
       "      <th>gender</th>\n",
       "      <th>grade</th>\n",
       "      <th>school_name</th>\n",
       "      <th>reading_score</th>\n",
       "      <th>math_score</th>\n",
       "      <th>School ID</th>\n",
       "      <th>type</th>\n",
       "      <th>size</th>\n",
       "      <th>budget</th>\n",
       "    </tr>\n",
       "  </thead>\n",
       "  <tbody>\n",
       "    <tr>\n",
       "      <th>0</th>\n",
       "      <td>0</td>\n",
       "      <td>Paul Bradley</td>\n",
       "      <td>M</td>\n",
       "      <td>9th</td>\n",
       "      <td>Huang High School</td>\n",
       "      <td>66</td>\n",
       "      <td>79</td>\n",
       "      <td>0</td>\n",
       "      <td>District</td>\n",
       "      <td>2917</td>\n",
       "      <td>1910635</td>\n",
       "    </tr>\n",
       "    <tr>\n",
       "      <th>1</th>\n",
       "      <td>1</td>\n",
       "      <td>Victor Smith</td>\n",
       "      <td>M</td>\n",
       "      <td>12th</td>\n",
       "      <td>Huang High School</td>\n",
       "      <td>94</td>\n",
       "      <td>61</td>\n",
       "      <td>0</td>\n",
       "      <td>District</td>\n",
       "      <td>2917</td>\n",
       "      <td>1910635</td>\n",
       "    </tr>\n",
       "    <tr>\n",
       "      <th>2</th>\n",
       "      <td>2</td>\n",
       "      <td>Kevin Rodriguez</td>\n",
       "      <td>M</td>\n",
       "      <td>12th</td>\n",
       "      <td>Huang High School</td>\n",
       "      <td>90</td>\n",
       "      <td>60</td>\n",
       "      <td>0</td>\n",
       "      <td>District</td>\n",
       "      <td>2917</td>\n",
       "      <td>1910635</td>\n",
       "    </tr>\n",
       "    <tr>\n",
       "      <th>3</th>\n",
       "      <td>3</td>\n",
       "      <td>Dr. Richard Scott</td>\n",
       "      <td>M</td>\n",
       "      <td>12th</td>\n",
       "      <td>Huang High School</td>\n",
       "      <td>67</td>\n",
       "      <td>58</td>\n",
       "      <td>0</td>\n",
       "      <td>District</td>\n",
       "      <td>2917</td>\n",
       "      <td>1910635</td>\n",
       "    </tr>\n",
       "    <tr>\n",
       "      <th>4</th>\n",
       "      <td>4</td>\n",
       "      <td>Bonnie Ray</td>\n",
       "      <td>F</td>\n",
       "      <td>9th</td>\n",
       "      <td>Huang High School</td>\n",
       "      <td>97</td>\n",
       "      <td>84</td>\n",
       "      <td>0</td>\n",
       "      <td>District</td>\n",
       "      <td>2917</td>\n",
       "      <td>1910635</td>\n",
       "    </tr>\n",
       "  </tbody>\n",
       "</table>\n",
       "</div>"
      ],
      "text/plain": [
       "   Student ID       student_name gender grade        school_name  \\\n",
       "0           0       Paul Bradley      M   9th  Huang High School   \n",
       "1           1       Victor Smith      M  12th  Huang High School   \n",
       "2           2    Kevin Rodriguez      M  12th  Huang High School   \n",
       "3           3  Dr. Richard Scott      M  12th  Huang High School   \n",
       "4           4         Bonnie Ray      F   9th  Huang High School   \n",
       "\n",
       "   reading_score  math_score  School ID      type  size   budget  \n",
       "0             66          79          0  District  2917  1910635  \n",
       "1             94          61          0  District  2917  1910635  \n",
       "2             90          60          0  District  2917  1910635  \n",
       "3             67          58          0  District  2917  1910635  \n",
       "4             97          84          0  District  2917  1910635  "
      ]
     },
     "execution_count": 283,
     "metadata": {},
     "output_type": "execute_result"
    }
   ],
   "source": [
    "#refreshing data table info\n",
    "school_data_complete = pd.merge(student_data, school_data, how=\"left\", on=[\"school_name\", \"school_name\"])\n",
    "school_data_complete.head()"
   ]
  },
  {
   "cell_type": "code",
   "execution_count": 284,
   "metadata": {},
   "outputs": [],
   "source": [
    "#bins\n",
    "budget_bins=[0, 585, 630, 645, 680]\n",
    "name_labels= ['<$585', '$585-630', '$630-645', '$645-680']"
   ]
  },
  {
   "cell_type": "code",
   "execution_count": 285,
   "metadata": {},
   "outputs": [
    {
     "data": {
      "text/plain": [
       "0        $645-680\n",
       "1        $645-680\n",
       "2        $645-680\n",
       "3        $645-680\n",
       "4        $645-680\n",
       "           ...   \n",
       "39165    $630-645\n",
       "39166    $630-645\n",
       "39167    $630-645\n",
       "39168    $630-645\n",
       "39169    $630-645\n",
       "Name: Spending Ranges, Length: 39170, dtype: category\n",
       "Categories (4, object): ['<$585' < '$585-630' < '$630-645' < '$645-680']"
      ]
     },
     "execution_count": 285,
     "metadata": {},
     "output_type": "execute_result"
    }
   ],
   "source": [
    "school_data_complete[\"Spending Ranges\"] = pd.cut(school_data_complete[\"budget\"]/school_data_complete[\"size\"], budget_bins, labels = name_labels)\n",
    "school_data_complete[\"Spending Ranges\"]"
   ]
  },
  {
   "cell_type": "code",
   "execution_count": 286,
   "metadata": {},
   "outputs": [
    {
     "data": {
      "text/plain": [
       "<pandas.core.groupby.generic.DataFrameGroupBy object at 0x000001CA011D7D00>"
      ]
     },
     "execution_count": 286,
     "metadata": {},
     "output_type": "execute_result"
    }
   ],
   "source": [
    "# spedning groupby\n",
    "spendGroup = school_data_complete.groupby(\"Spending Ranges\")\n",
    "spendGroup"
   ]
  },
  {
   "cell_type": "code",
   "execution_count": 287,
   "metadata": {},
   "outputs": [],
   "source": [
    "#data by bins\n",
    "\n",
    "spend_avMath= spendGroup[\"math_score\"].mean()\n",
    "spend_avRead= spendGroup[\"reading_score\"].mean()\n",
    "\n",
    "\n",
    "#passed precentages \n",
    "prMath= school_data_complete[school_data_complete[\"math_score\"]>=70].groupby('Spending Ranges')['Student ID'].count()\n",
    "spend_prMath= (prMath/spendGroup[\"Student ID\"].count())*100\n",
    "\n",
    "prRead= school_data_complete[school_data_complete[\"reading_score\"]>=70].groupby('Spending Ranges')['Student ID'].count()\n",
    "spend_prRead =(prRead/spendGroup[\"Student ID\"].count())*100"
   ]
  },
  {
   "cell_type": "code",
   "execution_count": 288,
   "metadata": {},
   "outputs": [],
   "source": [
    "ovPass = school_data_complete[(school_data_complete[\"reading_score\"]>=70) & (school_data_complete[\"math_score\"]>= 70)].groupby('Spending Ranges')['Student ID'].count()\n",
    "spend_overall =(ovPass/spendGroup[\"Student ID\"].count())*100"
   ]
  },
  {
   "cell_type": "code",
   "execution_count": null,
   "metadata": {},
   "outputs": [],
   "source": []
  },
  {
   "cell_type": "code",
   "execution_count": 289,
   "metadata": {},
   "outputs": [
    {
     "data": {
      "text/html": [
       "<style  type=\"text/css\" >\n",
       "</style><table id=\"T_a649f692_7ea8_11eb_9ee8_f8e4e39641cc\" ><thead>    <tr>        <th class=\"blank level0\" ></th>        <th class=\"col_heading level0 col0\" >Average Math Score</th>        <th class=\"col_heading level0 col1\" >Average Reading Score</th>        <th class=\"col_heading level0 col2\" >% Passing Math</th>        <th class=\"col_heading level0 col3\" >% Passing Reading</th>        <th class=\"col_heading level0 col4\" >% Overall Passing</th>    </tr>    <tr>        <th class=\"index_name level0\" >Spending Ranges</th>        <th class=\"blank\" ></th>        <th class=\"blank\" ></th>        <th class=\"blank\" ></th>        <th class=\"blank\" ></th>        <th class=\"blank\" ></th>    </tr></thead><tbody>\n",
       "                <tr>\n",
       "                        <th id=\"T_a649f692_7ea8_11eb_9ee8_f8e4e39641cclevel0_row0\" class=\"row_heading level0 row0\" ><$585</th>\n",
       "                        <td id=\"T_a649f692_7ea8_11eb_9ee8_f8e4e39641ccrow0_col0\" class=\"data row0 col0\" >83.36</td>\n",
       "                        <td id=\"T_a649f692_7ea8_11eb_9ee8_f8e4e39641ccrow0_col1\" class=\"data row0 col1\" >83.96</td>\n",
       "                        <td id=\"T_a649f692_7ea8_11eb_9ee8_f8e4e39641ccrow0_col2\" class=\"data row0 col2\" >93.70</td>\n",
       "                        <td id=\"T_a649f692_7ea8_11eb_9ee8_f8e4e39641ccrow0_col3\" class=\"data row0 col3\" >96.69</td>\n",
       "                        <td id=\"T_a649f692_7ea8_11eb_9ee8_f8e4e39641ccrow0_col4\" class=\"data row0 col4\" >90.64</td>\n",
       "            </tr>\n",
       "            <tr>\n",
       "                        <th id=\"T_a649f692_7ea8_11eb_9ee8_f8e4e39641cclevel0_row1\" class=\"row_heading level0 row1\" >$585-630</th>\n",
       "                        <td id=\"T_a649f692_7ea8_11eb_9ee8_f8e4e39641ccrow1_col0\" class=\"data row1 col0\" >79.98</td>\n",
       "                        <td id=\"T_a649f692_7ea8_11eb_9ee8_f8e4e39641ccrow1_col1\" class=\"data row1 col1\" >82.31</td>\n",
       "                        <td id=\"T_a649f692_7ea8_11eb_9ee8_f8e4e39641ccrow1_col2\" class=\"data row1 col2\" >79.11</td>\n",
       "                        <td id=\"T_a649f692_7ea8_11eb_9ee8_f8e4e39641ccrow1_col3\" class=\"data row1 col3\" >88.51</td>\n",
       "                        <td id=\"T_a649f692_7ea8_11eb_9ee8_f8e4e39641ccrow1_col4\" class=\"data row1 col4\" >70.94</td>\n",
       "            </tr>\n",
       "            <tr>\n",
       "                        <th id=\"T_a649f692_7ea8_11eb_9ee8_f8e4e39641cclevel0_row2\" class=\"row_heading level0 row2\" >$630-645</th>\n",
       "                        <td id=\"T_a649f692_7ea8_11eb_9ee8_f8e4e39641ccrow2_col0\" class=\"data row2 col0\" >77.82</td>\n",
       "                        <td id=\"T_a649f692_7ea8_11eb_9ee8_f8e4e39641ccrow2_col1\" class=\"data row2 col1\" >81.30</td>\n",
       "                        <td id=\"T_a649f692_7ea8_11eb_9ee8_f8e4e39641ccrow2_col2\" class=\"data row2 col2\" >70.62</td>\n",
       "                        <td id=\"T_a649f692_7ea8_11eb_9ee8_f8e4e39641ccrow2_col3\" class=\"data row2 col3\" >82.60</td>\n",
       "                        <td id=\"T_a649f692_7ea8_11eb_9ee8_f8e4e39641ccrow2_col4\" class=\"data row2 col4\" >58.84</td>\n",
       "            </tr>\n",
       "            <tr>\n",
       "                        <th id=\"T_a649f692_7ea8_11eb_9ee8_f8e4e39641cclevel0_row3\" class=\"row_heading level0 row3\" >$645-680</th>\n",
       "                        <td id=\"T_a649f692_7ea8_11eb_9ee8_f8e4e39641ccrow3_col0\" class=\"data row3 col0\" >77.05</td>\n",
       "                        <td id=\"T_a649f692_7ea8_11eb_9ee8_f8e4e39641ccrow3_col1\" class=\"data row3 col1\" >81.01</td>\n",
       "                        <td id=\"T_a649f692_7ea8_11eb_9ee8_f8e4e39641ccrow3_col2\" class=\"data row3 col2\" >66.23</td>\n",
       "                        <td id=\"T_a649f692_7ea8_11eb_9ee8_f8e4e39641ccrow3_col3\" class=\"data row3 col3\" >81.11</td>\n",
       "                        <td id=\"T_a649f692_7ea8_11eb_9ee8_f8e4e39641ccrow3_col4\" class=\"data row3 col4\" >53.53</td>\n",
       "            </tr>\n",
       "    </tbody></table>"
      ],
      "text/plain": [
       "<pandas.io.formats.style.Styler at 0x1ca01382b80>"
      ]
     },
     "execution_count": 289,
     "metadata": {},
     "output_type": "execute_result"
    }
   ],
   "source": [
    "#creating bin dataframe \n",
    "\n",
    "spend_Data = ({\"Average Math Score\": spend_avMath, \"Average Reading Score\": spend_avRead,\"% Passing Math\": spend_prMath, \"% Passing Reading\": spend_prRead, \"% Overall Passing\": spend_overall})\n",
    "\n",
    "bin_Data = pd.DataFrame(spend_Data)\n",
    "dataMat=bin_Data.style.format({\"Average Math Score\": \"{:,.2f}\", \"Average Reading Score\":\"{:,.2f}\",\"% Passing Math\":\"{:,.2f}\",\"% Passing Reading\":\"{:,.2f}\",\"% Overall Passing\":\"{:,.2f}\"})\n",
    "dataMat"
   ]
  },
  {
   "cell_type": "markdown",
   "metadata": {},
   "source": [
    "## Scores by School Size"
   ]
  },
  {
   "cell_type": "markdown",
   "metadata": {},
   "source": [
    "* Perform the same operations as above, based on school size."
   ]
  },
  {
   "cell_type": "code",
   "execution_count": 290,
   "metadata": {},
   "outputs": [
    {
     "data": {
      "text/html": [
       "<div>\n",
       "<style scoped>\n",
       "    .dataframe tbody tr th:only-of-type {\n",
       "        vertical-align: middle;\n",
       "    }\n",
       "\n",
       "    .dataframe tbody tr th {\n",
       "        vertical-align: top;\n",
       "    }\n",
       "\n",
       "    .dataframe thead th {\n",
       "        text-align: right;\n",
       "    }\n",
       "</style>\n",
       "<table border=\"1\" class=\"dataframe\">\n",
       "  <thead>\n",
       "    <tr style=\"text-align: right;\">\n",
       "      <th></th>\n",
       "      <th>Student ID</th>\n",
       "      <th>student_name</th>\n",
       "      <th>gender</th>\n",
       "      <th>grade</th>\n",
       "      <th>school_name</th>\n",
       "      <th>reading_score</th>\n",
       "      <th>math_score</th>\n",
       "      <th>School ID</th>\n",
       "      <th>type</th>\n",
       "      <th>size</th>\n",
       "      <th>budget</th>\n",
       "    </tr>\n",
       "  </thead>\n",
       "  <tbody>\n",
       "    <tr>\n",
       "      <th>0</th>\n",
       "      <td>0</td>\n",
       "      <td>Paul Bradley</td>\n",
       "      <td>M</td>\n",
       "      <td>9th</td>\n",
       "      <td>Huang High School</td>\n",
       "      <td>66</td>\n",
       "      <td>79</td>\n",
       "      <td>0</td>\n",
       "      <td>District</td>\n",
       "      <td>2917</td>\n",
       "      <td>1910635</td>\n",
       "    </tr>\n",
       "  </tbody>\n",
       "</table>\n",
       "</div>"
      ],
      "text/plain": [
       "   Student ID  student_name gender grade        school_name  reading_score  \\\n",
       "0           0  Paul Bradley      M   9th  Huang High School             66   \n",
       "\n",
       "   math_score  School ID      type  size   budget  \n",
       "0          79          0  District  2917  1910635  "
      ]
     },
     "execution_count": 290,
     "metadata": {},
     "output_type": "execute_result"
    }
   ],
   "source": [
    "#refreshing data table info\n",
    "school_data_complete = pd.merge(student_data, school_data, how=\"left\", on=[\"school_name\", \"school_name\"])\n",
    "school_data_complete.head(1)"
   ]
  },
  {
   "cell_type": "code",
   "execution_count": 291,
   "metadata": {},
   "outputs": [],
   "source": [
    "#bins\n",
    "school_bins= [0,1000,2000,5000]\n",
    "size_names=['<1000','1000-2000','2000-5000']"
   ]
  },
  {
   "cell_type": "code",
   "execution_count": 298,
   "metadata": {},
   "outputs": [],
   "source": [
    "#cutting data into the bins\n",
    "school_data_complete[\"School Size\"] = pd.cut(school_data_complete[\"size\"], school_bins, labels = size_names)"
   ]
  },
  {
   "cell_type": "code",
   "execution_count": 299,
   "metadata": {},
   "outputs": [],
   "source": [
    "#group for school size\n",
    "sizeGroup = school_data_complete.groupby(\"School Size\")"
   ]
  },
  {
   "cell_type": "code",
   "execution_count": 306,
   "metadata": {},
   "outputs": [],
   "source": [
    "#data by bins\n",
    "\n",
    "size_avMath= sizeGroup[\"math_score\"].mean()\n",
    "size_avRead= sizeGroup[\"reading_score\"].mean()\n",
    "\n",
    "\n",
    "#passed precentages \n",
    "pr_ath= school_data_complete[school_data_complete[\"math_score\"]>=70].groupby('School Size')['Student ID'].count()\n",
    "size_prMath= (pr_ath/sizeGroup[\"Student ID\"].count())*100\n",
    "\n",
    "pr_ead= school_data_complete[school_data_complete[\"reading_score\"]>=70].groupby('School Size')['Student ID'].count()\n",
    "size_prRead =(pr_ead/sizeGroup[\"Student ID\"].count())*100"
   ]
  },
  {
   "cell_type": "code",
   "execution_count": 307,
   "metadata": {},
   "outputs": [],
   "source": [
    "ovallPass = school_data_complete[(school_data_complete[\"reading_score\"]>=70) & (school_data_complete[\"math_score\"]>= 70)].groupby('School Size')['Student ID'].count()\n",
    "size_overall =(ovallPass/sizeGroup[\"Student ID\"].count())*100"
   ]
  },
  {
   "cell_type": "code",
   "execution_count": 314,
   "metadata": {},
   "outputs": [
    {
     "data": {
      "text/html": [
       "<div>\n",
       "<style scoped>\n",
       "    .dataframe tbody tr th:only-of-type {\n",
       "        vertical-align: middle;\n",
       "    }\n",
       "\n",
       "    .dataframe tbody tr th {\n",
       "        vertical-align: top;\n",
       "    }\n",
       "\n",
       "    .dataframe thead th {\n",
       "        text-align: right;\n",
       "    }\n",
       "</style>\n",
       "<table border=\"1\" class=\"dataframe\">\n",
       "  <thead>\n",
       "    <tr style=\"text-align: right;\">\n",
       "      <th></th>\n",
       "      <th>Average Math Score</th>\n",
       "      <th>Average Reading Score</th>\n",
       "      <th>% Passing Math</th>\n",
       "      <th>% Passing Reading</th>\n",
       "      <th>% Overall Passing</th>\n",
       "    </tr>\n",
       "    <tr>\n",
       "      <th>School Size</th>\n",
       "      <th></th>\n",
       "      <th></th>\n",
       "      <th></th>\n",
       "      <th></th>\n",
       "      <th></th>\n",
       "    </tr>\n",
       "  </thead>\n",
       "  <tbody>\n",
       "    <tr>\n",
       "      <th>&lt;1000</th>\n",
       "      <td>83.828654</td>\n",
       "      <td>83.974082</td>\n",
       "      <td>93.952484</td>\n",
       "      <td>96.040317</td>\n",
       "      <td>90.136789</td>\n",
       "    </tr>\n",
       "    <tr>\n",
       "      <th>1000-2000</th>\n",
       "      <td>83.372682</td>\n",
       "      <td>83.867989</td>\n",
       "      <td>93.616522</td>\n",
       "      <td>96.773058</td>\n",
       "      <td>90.624267</td>\n",
       "    </tr>\n",
       "    <tr>\n",
       "      <th>2000-5000</th>\n",
       "      <td>77.477597</td>\n",
       "      <td>81.198674</td>\n",
       "      <td>68.652380</td>\n",
       "      <td>82.125158</td>\n",
       "      <td>56.574046</td>\n",
       "    </tr>\n",
       "  </tbody>\n",
       "</table>\n",
       "</div>"
      ],
      "text/plain": [
       "             Average Math Score  Average Reading Score  % Passing Math  \\\n",
       "School Size                                                              \n",
       "<1000                 83.828654              83.974082       93.952484   \n",
       "1000-2000             83.372682              83.867989       93.616522   \n",
       "2000-5000             77.477597              81.198674       68.652380   \n",
       "\n",
       "             % Passing Reading  % Overall Passing  \n",
       "School Size                                        \n",
       "<1000                96.040317          90.136789  \n",
       "1000-2000            96.773058          90.624267  \n",
       "2000-5000            82.125158          56.574046  "
      ]
     },
     "execution_count": 314,
     "metadata": {},
     "output_type": "execute_result"
    }
   ],
   "source": [
    "#creating bin dataframe \n",
    "\n",
    "s_Data = ({\"Average Math Score\": size_avMath, \"Average Reading Score\": size_avRead,\"% Passing Math\": size_prMath, \"% Passing Reading\": size_prRead, \"% Overall Passing\": size_overall})\n",
    "\n",
    "size_Data = pd.DataFrame(s_Data)\n",
    "size_Data"
   ]
  },
  {
   "cell_type": "markdown",
   "metadata": {},
   "source": [
    "## Scores by School Type"
   ]
  },
  {
   "cell_type": "markdown",
   "metadata": {},
   "source": [
    "* Perform the same operations as above, based on school type"
   ]
  },
  {
   "cell_type": "code",
   "execution_count": 315,
   "metadata": {},
   "outputs": [
    {
     "data": {
      "text/html": [
       "<div>\n",
       "<style scoped>\n",
       "    .dataframe tbody tr th:only-of-type {\n",
       "        vertical-align: middle;\n",
       "    }\n",
       "\n",
       "    .dataframe tbody tr th {\n",
       "        vertical-align: top;\n",
       "    }\n",
       "\n",
       "    .dataframe thead th {\n",
       "        text-align: right;\n",
       "    }\n",
       "</style>\n",
       "<table border=\"1\" class=\"dataframe\">\n",
       "  <thead>\n",
       "    <tr style=\"text-align: right;\">\n",
       "      <th></th>\n",
       "      <th>Student ID</th>\n",
       "      <th>student_name</th>\n",
       "      <th>gender</th>\n",
       "      <th>grade</th>\n",
       "      <th>school_name</th>\n",
       "      <th>reading_score</th>\n",
       "      <th>math_score</th>\n",
       "      <th>School ID</th>\n",
       "      <th>type</th>\n",
       "      <th>size</th>\n",
       "      <th>budget</th>\n",
       "    </tr>\n",
       "  </thead>\n",
       "  <tbody>\n",
       "    <tr>\n",
       "      <th>0</th>\n",
       "      <td>0</td>\n",
       "      <td>Paul Bradley</td>\n",
       "      <td>M</td>\n",
       "      <td>9th</td>\n",
       "      <td>Huang High School</td>\n",
       "      <td>66</td>\n",
       "      <td>79</td>\n",
       "      <td>0</td>\n",
       "      <td>District</td>\n",
       "      <td>2917</td>\n",
       "      <td>1910635</td>\n",
       "    </tr>\n",
       "  </tbody>\n",
       "</table>\n",
       "</div>"
      ],
      "text/plain": [
       "   Student ID  student_name gender grade        school_name  reading_score  \\\n",
       "0           0  Paul Bradley      M   9th  Huang High School             66   \n",
       "\n",
       "   math_score  School ID      type  size   budget  \n",
       "0          79          0  District  2917  1910635  "
      ]
     },
     "execution_count": 315,
     "metadata": {},
     "output_type": "execute_result"
    }
   ],
   "source": [
    "#refreshing data table info\n",
    "school_data_complete = pd.merge(student_data, school_data, how=\"left\", on=[\"school_name\", \"school_name\"])\n",
    "school_data_complete.head(1)"
   ]
  },
  {
   "cell_type": "code",
   "execution_count": 318,
   "metadata": {},
   "outputs": [],
   "source": [
    "typeGroup = school_data_complete.groupby(\"type\")"
   ]
  },
  {
   "cell_type": "code",
   "execution_count": 322,
   "metadata": {
    "scrolled": true
   },
   "outputs": [],
   "source": [
    "#data by bins\n",
    "\n",
    "type_avMath= typeGroup[\"math_score\"].mean()\n",
    "type_avRead= typeGroup[\"reading_score\"].mean()\n",
    "\n",
    "\n",
    "#passed precentages \n",
    "typeMath= school_data_complete[school_data_complete[\"math_score\"]>=70].groupby('type')['Student ID'].count()\n",
    "type_prMath= (typeMath/typeGroup[\"Student ID\"].count())*100\n",
    "\n",
    "typeRead= school_data_complete[school_data_complete[\"reading_score\"]>=70].groupby('type')['Student ID'].count()\n",
    "type_prRead =(typeRead/typeGroup[\"Student ID\"].count())*100"
   ]
  },
  {
   "cell_type": "code",
   "execution_count": 323,
   "metadata": {},
   "outputs": [],
   "source": [
    "typePass = school_data_complete[(school_data_complete[\"reading_score\"]>=70) & (school_data_complete[\"math_score\"]>= 70)].groupby('type')['Student ID'].count()\n",
    "type_overall =(typePass/typeGroup[\"Student ID\"].count())*100"
   ]
  },
  {
   "cell_type": "code",
   "execution_count": 324,
   "metadata": {},
   "outputs": [
    {
     "data": {
      "text/html": [
       "<div>\n",
       "<style scoped>\n",
       "    .dataframe tbody tr th:only-of-type {\n",
       "        vertical-align: middle;\n",
       "    }\n",
       "\n",
       "    .dataframe tbody tr th {\n",
       "        vertical-align: top;\n",
       "    }\n",
       "\n",
       "    .dataframe thead th {\n",
       "        text-align: right;\n",
       "    }\n",
       "</style>\n",
       "<table border=\"1\" class=\"dataframe\">\n",
       "  <thead>\n",
       "    <tr style=\"text-align: right;\">\n",
       "      <th></th>\n",
       "      <th>Average Math Score</th>\n",
       "      <th>Average Reading Score</th>\n",
       "      <th>% Passing Math</th>\n",
       "      <th>% Passing Reading</th>\n",
       "      <th>% Overall Passing</th>\n",
       "    </tr>\n",
       "    <tr>\n",
       "      <th>type</th>\n",
       "      <th></th>\n",
       "      <th></th>\n",
       "      <th></th>\n",
       "      <th></th>\n",
       "      <th></th>\n",
       "    </tr>\n",
       "  </thead>\n",
       "  <tbody>\n",
       "    <tr>\n",
       "      <th>Charter</th>\n",
       "      <td>83.406183</td>\n",
       "      <td>83.902821</td>\n",
       "      <td>93.701821</td>\n",
       "      <td>96.645891</td>\n",
       "      <td>90.560932</td>\n",
       "    </tr>\n",
       "    <tr>\n",
       "      <th>District</th>\n",
       "      <td>76.987026</td>\n",
       "      <td>80.962485</td>\n",
       "      <td>66.518387</td>\n",
       "      <td>80.905249</td>\n",
       "      <td>53.695878</td>\n",
       "    </tr>\n",
       "  </tbody>\n",
       "</table>\n",
       "</div>"
      ],
      "text/plain": [
       "          Average Math Score  Average Reading Score  % Passing Math  \\\n",
       "type                                                                  \n",
       "Charter            83.406183              83.902821       93.701821   \n",
       "District           76.987026              80.962485       66.518387   \n",
       "\n",
       "          % Passing Reading  % Overall Passing  \n",
       "type                                            \n",
       "Charter           96.645891          90.560932  \n",
       "District          80.905249          53.695878  "
      ]
     },
     "execution_count": 324,
     "metadata": {},
     "output_type": "execute_result"
    }
   ],
   "source": [
    "#creating bin dataframe \n",
    "\n",
    "t_Data = ({\"Average Math Score\": type_avMath, \"Average Reading Score\": type_avRead,\"% Passing Math\": type_prMath, \"% Passing Reading\": type_prRead, \"% Overall Passing\": type_overall})\n",
    "\n",
    "type_Data = pd.DataFrame(t_Data)\n",
    "type_Data"
   ]
  },
  {
   "cell_type": "code",
   "execution_count": null,
   "metadata": {},
   "outputs": [],
   "source": []
  }
 ],
 "metadata": {
  "anaconda-cloud": {},
  "kernel_info": {
   "name": "python3"
  },
  "kernelspec": {
   "display_name": "Python 3",
   "language": "python",
   "name": "python3"
  },
  "language_info": {
   "codemirror_mode": {
    "name": "ipython",
    "version": 3
   },
   "file_extension": ".py",
   "mimetype": "text/x-python",
   "name": "python",
   "nbconvert_exporter": "python",
   "pygments_lexer": "ipython3",
   "version": "3.8.5"
  },
  "latex_envs": {
   "LaTeX_envs_menu_present": true,
   "autoclose": false,
   "autocomplete": true,
   "bibliofile": "biblio.bib",
   "cite_by": "apalike",
   "current_citInitial": 1,
   "eqLabelWithNumbers": true,
   "eqNumInitial": 1,
   "hotkeys": {
    "equation": "Ctrl-E",
    "itemize": "Ctrl-I"
   },
   "labels_anchors": false,
   "latex_user_defs": false,
   "report_style_numbering": false,
   "user_envs_cfg": false
  },
  "nteract": {
   "version": "0.8.4"
  }
 },
 "nbformat": 4,
 "nbformat_minor": 1
}
